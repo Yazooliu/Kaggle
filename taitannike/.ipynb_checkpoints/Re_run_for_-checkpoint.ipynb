{
 "cells": [
  {
   "cell_type": "code",
   "execution_count": 1,
   "metadata": {
    "collapsed": true
   },
   "outputs": [],
   "source": [
    "###-------------\n",
    "### code from https://blog.csdn.net/qq_43012160/article/details/99305856\n",
    "### re-run by Yazhou\n",
    "### 2019- 12-16"
   ]
  },
  {
   "cell_type": "code",
   "execution_count": 69,
   "metadata": {
    "collapsed": false
   },
   "outputs": [],
   "source": [
    "from sklearn import metrics\n",
    "import pandas as pd\n",
    "import numpy as np\n",
    "from sklearn.preprocessing import LabelEncoder\n",
    "from sklearn.preprocessing import MinMaxScaler\n",
    "from sklearn.ensemble import GradientBoostingRegressor\n",
    "from sklearn.neural_network import MLPRegressor\n",
    "import pandas as pd\n",
    "import numpy as np\n",
    "from sklearn.feature_extraction.text import CountVectorizer\n",
    "import matplotlib.pyplot as plt\n",
    "from sklearn.preprocessing import StandardScaler\n",
    "from sklearn.preprocessing import MinMaxScaler\n",
    "from sklearn.preprocessing import LabelEncoder\n",
    "from sklearn.neural_network import MLPRegressor\n",
    "import math\n",
    "from sklearn.ensemble import GradientBoostingRegressor\n",
    "from sklearn.neural_network import MLPClassifier\n",
    "from sklearn.linear_model import LogisticRegression\n",
    "from sklearn import metrics"
   ]
  },
  {
   "cell_type": "markdown",
   "metadata": {},
   "source": [
    "### 1.1读取数据"
   ]
  },
  {
   "cell_type": "code",
   "execution_count": 106,
   "metadata": {
    "collapsed": false,
    "scrolled": true
   },
   "outputs": [],
   "source": [
    "train_data = pd.read_csv(\"titanic_train.csv\")\n",
    "test_data  = pd.read_csv(\"test.csv\") #lineterminator\n",
    "test_Lable = pd.read_csv(\"mygender.csv\") # ground truth \n",
    "testLable  = list(map(int,test_Lable['Survived']))\n",
    "\n",
    "train_data = train_data.drop(['PassengerId'],axis=1)\n",
    "test_data  = test_data.drop(['PassengerId'],axis=1)\n",
    "train_data = train_data.drop(['Name'],axis=1)\n",
    "test_data  = test_data.drop(['Name'],axis=1)\n",
    "train_data = train_data.drop(['Cabin'],axis=1)\n",
    "test_data  = test_data.drop(['Cabin'],axis=1)\n",
    "train_data = train_data.drop(['Ticket'],axis=1)\n",
    "test_data  = test_data.drop(['Ticket'],axis=1)\n",
    "#print(\"训练样本个数:\",train_data.shape[0]),print(\"测试样本个数:\",test_data.shape[0])"
   ]
  },
  {
   "cell_type": "markdown",
   "metadata": {},
   "source": [
    "### 1.3 训练集合中缺失的数据集合 - 是可以直接删除的"
   ]
  },
  {
   "cell_type": "code",
   "execution_count": 107,
   "metadata": {
    "collapsed": false
   },
   "outputs": [
    {
     "name": "stdout",
     "output_type": "stream",
     "text": [
      "Index(['Pclass', 'Sex', 'Age', 'SibSp', 'Parch', 'Fare', 'Embarked'], dtype='object')\n"
     ]
    }
   ],
   "source": [
    "train_data.dropna(axis=0,inplace=True)\n",
    "trainLen = len(train_data)\n",
    "testLen  = len(test_data)\n",
    "#训练集标签特征分离：\n",
    "trainLable= list(map(int,train_data['Survived']))\n",
    "train_data=train_data.drop(['Survived'],axis=1)\n",
    "print(train_data.columns)"
   ]
  },
  {
   "cell_type": "code",
   "execution_count": 108,
   "metadata": {
    "collapsed": false
   },
   "outputs": [
    {
     "data": {
      "text/plain": [
       "(712, 418)"
      ]
     },
     "execution_count": 108,
     "metadata": {},
     "output_type": "execute_result"
    }
   ],
   "source": [
    "trainLEN = len(train_data)\n",
    "testLEN = len(test_data)\n",
    "trainLEN,testLEN"
   ]
  },
  {
   "cell_type": "markdown",
   "metadata": {},
   "source": [
    "### 1.5 对于测试样本中缺失的值不能直接删除，要选择合适值来填充"
   ]
  },
  {
   "cell_type": "code",
   "execution_count": 109,
   "metadata": {
    "collapsed": true
   },
   "outputs": [],
   "source": [
    "### 对'Fare' 填充众数 = test_data['Fare'].dropna().mode()\n",
    "test_data['Fare'] = test_data['Fare'].fillna(test_data['Fare'].dropna().mode()[0])"
   ]
  },
  {
   "cell_type": "markdown",
   "metadata": {},
   "source": [
    "### 1.6考虑到数据间的量纲问题，对数据进行归一化处理"
   ]
  },
  {
   "cell_type": "code",
   "execution_count": 110,
   "metadata": {
    "collapsed": false
   },
   "outputs": [
    {
     "data": {
      "text/plain": [
       "(Index(['Pclass', 'Sex', 'Age', 'SibSp', 'Parch', 'Fare', 'Embarked'], dtype='object'),\n",
       " 1130)"
      ]
     },
     "execution_count": 110,
     "metadata": {},
     "output_type": "execute_result"
    }
   ],
   "source": [
    "combineData = train_data.append(test_data)\n",
    "combineData.columns,len(combineData)"
   ]
  },
  {
   "cell_type": "code",
   "execution_count": 111,
   "metadata": {
    "collapsed": false,
    "scrolled": true
   },
   "outputs": [],
   "source": [
    "## 下面的代码是在7个特征数据的基础上，对['Sex','Embarked']两列做编码处理了\n",
    "columns = ['Sex','Embarked']\n",
    "Temp_data   = combineData\n",
    "result      = []\n",
    "le          = LabelEncoder()\n",
    "ListData_tmp= []\n",
    "for column in columns:\n",
    "    ListData = []\n",
    "    for review in Temp_data[column]:\n",
    "        ListData.append(review)\n",
    "    Temp_data[column] = le.fit_transform(ListData)\n",
    "    ListData_tmp.append(ListData)\n",
    "\n",
    "###对1130*7的数据中做全部的遍历\n",
    "for rowIndex in range(len(Temp_data)):\n",
    "    rowVec = []\n",
    "    for columnIndex in range(0,len(Temp_data.columns)):\n",
    "        if columnIndex!=2: # 跳过\"Age\"列\n",
    "            rowVec.append(Temp_data.iloc[rowIndex,columnIndex])\n",
    "    result.append(rowVec)\n",
    "\n",
    "scl                = MinMaxScaler()\n",
    "combine_result_fit = scl.fit_transform(np.array(result))\n",
    "combine_train      = combine_result_fit[0:trainLEN]\n",
    "combine_test       = combine_result_fit[trainLEN:trainLEN + testLEN]"
   ]
  },
  {
   "cell_type": "code",
   "execution_count": 112,
   "metadata": {
    "collapsed": false
   },
   "outputs": [
    {
     "data": {
      "text/plain": [
       "((1130, 7), (1130, 7), (712, 6), (418, 6))"
      ]
     },
     "execution_count": 112,
     "metadata": {},
     "output_type": "execute_result"
    }
   ],
   "source": [
    "np.array(Temp_data).shape,combineData.shape,combine_train.shape,combine_test.shape"
   ]
  },
  {
   "cell_type": "markdown",
   "metadata": {},
   "source": [
    "### 对Age非空的数据重新编码"
   ]
  },
  {
   "cell_type": "code",
   "execution_count": 113,
   "metadata": {
    "collapsed": false
   },
   "outputs": [],
   "source": [
    "Full_Age_data  = combineData['Age']\n",
    "AgeisNull      = Full_Age_data.isnull().get_values() \n",
    "AgeNotNullData = []\n",
    "Full_Age_List  = []\n",
    "Age_Test_inModel  = []\n",
    "Age_Train_inModel = []\n",
    "for i in Full_Age_data:\n",
    "    Full_Age_List.append(i)\n",
    "\n",
    "\n",
    "for i in range(0,len(AgeisNull)):\n",
    "    if AgeisNull[i] == False: # 非空元素\n",
    "        AgeNotNullData.append(Full_Age_List[i])\n",
    "        Age_Train_inModel.append(combine_result_fit[i,:])\n",
    "    else:\n",
    "        Age_Test_inModel.append(combine_result_fit[i,:])\n",
    "\n",
    "AgeNotNullData = np.array(AgeNotNullData)\n",
    "AgeNotNullData = AgeNotNullData.reshape(1,-1)\n",
    "Age_notNull_encode_label = scl.fit_transform(AgeNotNullData)\n",
    "Age_Train_label = Age_notNull_encode_label.reshape(-1,1)\n",
    "Age_Train_Data  = np.array(Age_Train_inModel)\n",
    "\n",
    "# need prediction \n",
    "Age_Test_inModel = np.array(Age_Test_inModel)"
   ]
  },
  {
   "cell_type": "code",
   "execution_count": 114,
   "metadata": {
    "collapsed": false
   },
   "outputs": [
    {
     "data": {
      "text/plain": [
       "((1044, 1), (1044, 6), (86, 6))"
      ]
     },
     "execution_count": 114,
     "metadata": {},
     "output_type": "execute_result"
    }
   ],
   "source": [
    "Age_Train_label.shape,Age_Train_Data.shape,Age_Test_inModel.shape"
   ]
  },
  {
   "cell_type": "code",
   "execution_count": 115,
   "metadata": {
    "collapsed": false,
    "scrolled": false
   },
   "outputs": [
    {
     "name": "stdout",
     "output_type": "stream",
     "text": [
      "预测测试集Age:\n",
      "0 th training:\n",
      "1 th training:\n"
     ]
    },
    {
     "name": "stderr",
     "output_type": "stream",
     "text": [
      "C:\\Anaconda3\\lib\\site-packages\\sklearn\\utils\\validation.py:547: DataConversionWarning: A column-vector y was passed when a 1d array was expected. Please change the shape of y to (n_samples, ), for example using ravel().\n",
      "  y = column_or_1d(y, warn=True)\n",
      "C:\\Anaconda3\\lib\\site-packages\\sklearn\\neural_network\\multilayer_perceptron.py:1306: DataConversionWarning: A column-vector y was passed when a 1d array was expected. Please change the shape of y to (n_samples, ), for example using ravel().\n",
      "  y = column_or_1d(y, warn=True)\n"
     ]
    },
    {
     "name": "stdout",
     "output_type": "stream",
     "text": [
      "2 th training:\n",
      "3 th training:\n",
      "4 th training:\n",
      "Age的空值将被age_model的值来代替\n"
     ]
    }
   ],
   "source": [
    "ageLable = Age_Train_label\n",
    "ageTrain = Age_Train_Data\n",
    "ageTest  = Age_Test_inModel\n",
    "#预测Age：\n",
    "print('预测测试集Age:')\n",
    "model1 = GradientBoostingRegressor(alpha=0.9, criterion='friedman_mse', init=None,\n",
    "                                  learning_rate=0.03, loss='huber', max_depth=15,\n",
    "                                  max_features='sqrt', max_leaf_nodes=None,\n",
    "                                  min_impurity_decrease=0.0, min_impurity_split=None,\n",
    "                                  min_samples_leaf=10, min_samples_split=40,\n",
    "                                  min_weight_fraction_leaf=0.0, n_estimators=300,\n",
    "                                  presort='auto', random_state=10, subsample=0.8, verbose=0,\n",
    "                                  warm_start=False)#创建mlp神经网络对象\n",
    "model2 = MLPRegressor(activation='tanh', learning_rate='adaptive')\n",
    "age_sum = []\n",
    "\n",
    "max_iters = 5\n",
    "for i in range(0,max_iters):\n",
    "    print(i,'th training:')\n",
    "    model1.fit(ageTrain,ageLable)#模型训练\n",
    "    age_model1 = model1.predict(ageTest)#模型预测\n",
    "    model2.fit(ageTrain,ageLable)#模型训练\n",
    "    age_model2 = model2.predict(ageTest)#模型预测\n",
    "    age_sum.append(age_model1*0.5+age_model2*0.5)\n",
    "\n",
    "age_model = []\n",
    "for i in range(len(ageTest)):\n",
    "    asum=0\n",
    "    for j in range(0,max_iters):\n",
    "        asum=asum+age_sum[j][i]\n",
    "    age_model.append(asum/max_iters)\n",
    "\n",
    "print(\"Age的空值将被age_model的值来代替\")"
   ]
  },
  {
   "cell_type": "code",
   "execution_count": 116,
   "metadata": {
    "collapsed": false
   },
   "outputs": [],
   "source": [
    "NullIndex = []\n",
    "combineData_age_array = np.array(combineData['Age'])\n",
    "for i in range(0,len(AgeisNull)):\n",
    "    if AgeisNull[i] == True:\n",
    "        NullIndex.append(i)\n",
    "for i in range(len(NullIndex)):\n",
    "    nullindex = NullIndex[i]\n",
    "    combineData.iloc[nullindex,2] = age_model[i]"
   ]
  },
  {
   "cell_type": "code",
   "execution_count": 117,
   "metadata": {
    "collapsed": false
   },
   "outputs": [
    {
     "data": {
      "text/plain": [
       "(1130, 7)"
      ]
     },
     "execution_count": 117,
     "metadata": {},
     "output_type": "execute_result"
    }
   ],
   "source": [
    "combineData.shape"
   ]
  },
  {
   "cell_type": "code",
   "execution_count": 118,
   "metadata": {
    "collapsed": false
   },
   "outputs": [],
   "source": [
    "#去除离群点：\n",
    "magicdata = 6\n",
    "trainReview = combineData[0:trainLEN]\n",
    "trainReview = np.array(trainReview)\n",
    "rowLen=trainReview.shape[1]\n",
    "shallDel=[]\n",
    "for i in range(0,len(trainReview)):\n",
    "    shallDel.append(0)\n",
    "    \n",
    "for j in range(0,rowLen):\n",
    "    min = np.percentile(trainReview[:,j],magicdata)\n",
    "    max = np.percentile(trainReview[:, j], 100 - magicdata)\n",
    "    for i in range(0, len(trainReview)):\n",
    "        if (trainReview[i,j]<min) or (trainReview[i,j]>max):shallDel[i]=1\n",
    "for i in range(len(trainReview)-1,-1,-1):\n",
    "    if shallDel[i]==1:\n",
    "        trainReview=np.delete(trainReview,i,axis=0)\n",
    "        trainLable = np.delete(trainLable, i, axis=0)"
   ]
  },
  {
   "cell_type": "code",
   "execution_count": 119,
   "metadata": {
    "collapsed": false
   },
   "outputs": [
    {
     "data": {
      "text/plain": [
       "((525,), (525, 7))"
      ]
     },
     "execution_count": 119,
     "metadata": {},
     "output_type": "execute_result"
    }
   ],
   "source": [
    "trainLable.shape,trainReview.shape"
   ]
  },
  {
   "cell_type": "code",
   "execution_count": 120,
   "metadata": {
    "collapsed": false
   },
   "outputs": [
    {
     "data": {
      "image/png": "[encoded data removed]",
      "text/plain": [
       "<matplotlib.figure.Figure at 0x2b8349e5668>"
      ]
     },
     "metadata": {},
     "output_type": "display_data"
    }
   ],
   "source": [
    "rowLen=trainReview.shape[1]\n",
    "dfCorr=[]\n",
    "srLable = pd.Series(trainLable)\n",
    "for i in range(0,rowLen):\n",
    "    srReview=pd.Series(trainReview[:,i])\n",
    "    dfCorr.append(srReview.corr(srLable,method='kendall'))\n",
    "plt.bar(list(range(0,rowLen)),dfCorr)\n",
    "plt.show()"
   ]
  },
  {
   "cell_type": "code",
   "execution_count": 121,
   "metadata": {
    "collapsed": false
   },
   "outputs": [
    {
     "name": "stdout",
     "output_type": "stream",
     "text": [
      "0.18299213984\n",
      "1.0\n",
      "1.0\n"
     ]
    }
   ],
   "source": [
    "import pandas as pd\n",
    "import math\n",
    "x=[]\n",
    "y=[]\n",
    "for i in range(1,101):\n",
    "    x.append(i)\n",
    "    y.append(math.log(i**2+math.log(i**0.5+40*i))+i**2+i**6+i**math.log(i**math.sqrt(2*i)))\n",
    "print(pd.Series(x).corr(pd.Series(y),method='pearson'))\n",
    "print(pd.Series(x).corr(pd.Series(y),method='kendall'))\n",
    "print(pd.Series(x).corr(pd.Series(y),method='spearman'))\n"
   ]
  },
  {
   "cell_type": "code",
   "execution_count": 122,
   "metadata": {
    "collapsed": false
   },
   "outputs": [
    {
     "name": "stdout",
     "output_type": "stream",
     "text": [
      "-0.464060281958\n",
      "-0.349090909091\n",
      "-0.478787878788\n"
     ]
    }
   ],
   "source": [
    "import pandas as pd\n",
    "import math\n",
    "x=[]\n",
    "y=[]\n",
    "for i in range(1,101):\n",
    "    x.append(i)\n",
    "    y.append(math.cos(math.log(i**2+math.log(i**0.5+40*i))+math.sin(i**2+i**6+i**math.log(i**math.sqrt(2*i))))**3)\n",
    "print(pd.Series(x).corr(pd.Series(y),method='pearson'))\n",
    "print(pd.Series(x).corr(pd.Series(y),method='kendall'))\n",
    "print(pd.Series(x).corr(pd.Series(y),method='spearman'))"
   ]
  },
  {
   "cell_type": "code",
   "execution_count": 123,
   "metadata": {
    "collapsed": false
   },
   "outputs": [
    {
     "name": "stdout",
     "output_type": "stream",
     "text": [
      "建模:\n",
      "预测:\n",
      ">>>准确率\n",
      " 0.925837320574\n",
      "\n",
      ">>>混淆矩阵\n",
      " [[244  22]\n",
      " [  9 143]]\n"
     ]
    }
   ],
   "source": [
    "print('建模:')\n",
    "testReview       = combineData[trainLEN:trainLEN + testLEN]\n",
    "model            = LogisticRegression()\n",
    "model.fit(trainReview, trainLable)\n",
    "print('预测:')\n",
    "pred_model = model.predict(testReview)\n",
    "score  = metrics.accuracy_score(testLable, pred_model)\n",
    "matrix = metrics.confusion_matrix(testLable, pred_model)\n",
    "print('>>>准确率\\n', score)\n",
    "print('\\n>>>混淆矩阵\\n', matrix)"
   ]
  },
  {
   "cell_type": "code",
   "execution_count": 132,
   "metadata": {
    "collapsed": false
   },
   "outputs": [
    {
     "data": {
      "text/plain": [
       "((418,), 418)"
      ]
     },
     "execution_count": 132,
     "metadata": {},
     "output_type": "execute_result"
    }
   ],
   "source": [
    "pred_model.shape,len(testLable)"
   ]
  },
  {
   "cell_type": "code",
   "execution_count": 143,
   "metadata": {
    "collapsed": false
   },
   "outputs": [
    {
     "data": {
      "text/plain": [
       "5.197505197505198"
      ]
     },
     "execution_count": 143,
     "metadata": {},
     "output_type": "execute_result"
    }
   ],
   "source": [
    "100*25/481"
   ]
  },
  {
   "cell_type": "code",
   "execution_count": 141,
   "metadata": {
    "collapsed": false
   },
   "outputs": [
    {
     "name": "stdout",
     "output_type": "stream",
     "text": [
      "Accuracy is:92.584 %\n"
     ]
    }
   ],
   "source": [
    "pred_model_ = list(pred_model)\n",
    "CorrectIndex = 0\n",
    "for i in range(0,len(pred_model)):\n",
    "    if testLable[i] == pred_model_[i]:\n",
    "        CorrectIndex+=1\n",
    "print(\"Accuracy is:%0.3f\"%(100*CorrectIndex/len(pred_model_)),'%')"
   ]
  },
  {
   "cell_type": "code",
   "execution_count": 144,
   "metadata": {
    "collapsed": false
   },
   "outputs": [
    {
     "name": "stdout",
     "output_type": "stream",
     "text": [
      "(418, 2)\n"
     ]
    },
    {
     "data": {
      "text/html": [
       "<div>\n",
       "<table border=\"1\" class=\"dataframe\">\n",
       "  <thead>\n",
       "    <tr style=\"text-align: right;\">\n",
       "      <th></th>\n",
       "      <th>PassengerId</th>\n",
       "      <th>Survived</th>\n",
       "    </tr>\n",
       "  </thead>\n",
       "  <tbody>\n",
       "    <tr>\n",
       "      <th>0</th>\n",
       "      <td>892</td>\n",
       "      <td>0</td>\n",
       "    </tr>\n",
       "    <tr>\n",
       "      <th>1</th>\n",
       "      <td>893</td>\n",
       "      <td>0</td>\n",
       "    </tr>\n",
       "    <tr>\n",
       "      <th>2</th>\n",
       "      <td>894</td>\n",
       "      <td>0</td>\n",
       "    </tr>\n",
       "    <tr>\n",
       "      <th>3</th>\n",
       "      <td>895</td>\n",
       "      <td>0</td>\n",
       "    </tr>\n",
       "    <tr>\n",
       "      <th>4</th>\n",
       "      <td>896</td>\n",
       "      <td>1</td>\n",
       "    </tr>\n",
       "  </tbody>\n",
       "</table>\n",
       "</div>"
      ],
      "text/plain": [
       "   PassengerId  Survived\n",
       "0          892         0\n",
       "1          893         0\n",
       "2          894         0\n",
       "3          895         0\n",
       "4          896         1"
      ]
     },
     "execution_count": 144,
     "metadata": {},
     "output_type": "execute_result"
    }
   ],
   "source": [
    "### 下面获得准确率大约是80%\n",
    "pre_y = pred_model\n",
    "test_data_  = pd.read_csv(\"test.csv\") #lineterminator\n",
    "pred_y = pre_y.astype(int)\n",
    "PassengerId = test_data_.loc[:,'PassengerId']\n",
    "pred_DF = pd.DataFrame({'PassengerId':PassengerId,\n",
    "                        'Survived':pred_y})\n",
    "pred_DF.to_csv(\"taitannike_predict_v2.csv\",index = False)\n",
    "print(pred_DF.shape)\n",
    "pred_DF.head()"
   ]
  }
 ],
 "metadata": {
  "anaconda-cloud": {},
  "kernelspec": {
   "display_name": "Python [conda root]",
   "language": "python",
   "name": "conda-root-py"
  },
  "language_info": {
   "codemirror_mode": {
    "name": "ipython",
    "version": 3
   },
   "file_extension": ".py",
   "mimetype": "text/x-python",
   "name": "python",
   "nbconvert_exporter": "python",
   "pygments_lexer": "ipython3",
   "version": "3.5.2"
  }
 },
 "nbformat": 4,
 "nbformat_minor": 1
}
