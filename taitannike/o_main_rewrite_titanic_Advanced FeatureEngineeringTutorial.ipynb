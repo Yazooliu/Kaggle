{
 "cells": [
  {
   "cell_type": "code",
   "execution_count": 1,
   "metadata": {
    "collapsed": false
   },
   "outputs": [],
   "source": [
    "# code from https://www.kaggle.com/gunesevitan/titanic-advanced-feature-engineering-tutorial/notebook"
   ]
  },
  {
   "cell_type": "code",
   "execution_count": 2,
   "metadata": {
    "collapsed": true
   },
   "outputs": [],
   "source": [
    "import numpy as np\n",
    "import pandas as pd\n",
    "import matplotlib.pyplot as plt \n",
    "import seaborn as sns \n",
    "from sklearn.ensemble import RandomForestClassifier \n",
    "from sklearn.preprocessing import OneHotEncoder,LabelEncoder,StandardScaler\n",
    "from sklearn.metrics import roc_curve,auc\n",
    "from sklearn.model_selection import StratifiedKFold\n",
    "import string\n",
    "import warnings \n",
    "import re\n",
    "warnings.filterwarnings('ignore')\n",
    "pd.set_option('display.max_columns',100)"
   ]
  },
  {
   "cell_type": "markdown",
   "metadata": {},
   "source": [
    "## 1 加载数据"
   ]
  },
  {
   "cell_type": "code",
   "execution_count": 4,
   "metadata": {
    "collapsed": false,
    "scrolled": true
   },
   "outputs": [
    {
     "data": {
      "text/plain": [
       "((891, 12), (418, 11), (1309, 12))"
      ]
     },
     "execution_count": 4,
     "metadata": {},
     "output_type": "execute_result"
    }
   ],
   "source": [
    "def concat_df(train_data,test_data):\n",
    "    return pd.concat([train_data,test_data]).reset_index(drop=True)\n",
    "\n",
    "def divide_df(all_data):\n",
    "    return all_data.loc[:890],all_data.loc[891:].drop(['Survived'],axis = 1)\n",
    "df_train = pd.read_csv('train.csv')\n",
    "df_test  = pd.read_csv('test.csv')\n",
    "df_all   = concat_df(df_train,df_test)\n",
    "dfs      = [df_train,df_test]\n",
    "df_train.shape,df_test.shape,df_all.shape"
   ]
  },
  {
   "cell_type": "markdown",
   "metadata": {},
   "source": [
    "## 2 数据的挖掘"
   ]
  },
  {
   "cell_type": "markdown",
   "metadata": {},
   "source": [
    "### 2.1 数据缺失值 -训练数据缺失 Age/Cabin/Embarked"
   ]
  },
  {
   "cell_type": "code",
   "execution_count": 5,
   "metadata": {
    "collapsed": false
   },
   "outputs": [],
   "source": [
    "#df_train.info()"
   ]
  },
  {
   "cell_type": "markdown",
   "metadata": {},
   "source": [
    "### 2.2 测试数据缺失值: Age/Fare/Cabin/"
   ]
  },
  {
   "cell_type": "code",
   "execution_count": 6,
   "metadata": {
    "collapsed": false
   },
   "outputs": [],
   "source": [
    "#df_test.info()"
   ]
  },
  {
   "cell_type": "markdown",
   "metadata": {},
   "source": [
    "### 2.3 先处理Age缺少的数据"
   ]
  },
  {
   "cell_type": "code",
   "execution_count": 7,
   "metadata": {
    "collapsed": true
   },
   "outputs": [],
   "source": [
    "# 先确定Age更哪些因数相关，再确定按照什么规则填写；下面的数据分析显示Age跟Pclass有很大的相关性\n",
    "# 而且为了更加准确，我们填充Age的时候也考虑性别sex 这个因数；所以下面会按照Sex and Pclass分组，然后\n",
    "# 对于哪个分组缺失的值由哪个分组的值来填充"
   ]
  },
  {
   "cell_type": "code",
   "execution_count": 8,
   "metadata": {
    "collapsed": false
   },
   "outputs": [
    {
     "data": {
      "text/html": [
       "<div>\n",
       "<table border=\"1\" class=\"dataframe\">\n",
       "  <thead>\n",
       "    <tr style=\"text-align: right;\">\n",
       "      <th></th>\n",
       "      <th>Feature1</th>\n",
       "      <th>Feature2</th>\n",
       "      <th>Corr_Coeff</th>\n",
       "    </tr>\n",
       "  </thead>\n",
       "  <tbody>\n",
       "    <tr>\n",
       "      <th>6</th>\n",
       "      <td>Age</td>\n",
       "      <td>Age</td>\n",
       "      <td>1.000000</td>\n",
       "    </tr>\n",
       "    <tr>\n",
       "      <th>9</th>\n",
       "      <td>Age</td>\n",
       "      <td>Pclass</td>\n",
       "      <td>0.408106</td>\n",
       "    </tr>\n",
       "    <tr>\n",
       "      <th>17</th>\n",
       "      <td>Age</td>\n",
       "      <td>SibSp</td>\n",
       "      <td>0.243699</td>\n",
       "    </tr>\n",
       "    <tr>\n",
       "      <th>22</th>\n",
       "      <td>Age</td>\n",
       "      <td>Fare</td>\n",
       "      <td>0.178740</td>\n",
       "    </tr>\n",
       "    <tr>\n",
       "      <th>25</th>\n",
       "      <td>Age</td>\n",
       "      <td>Parch</td>\n",
       "      <td>0.150917</td>\n",
       "    </tr>\n",
       "    <tr>\n",
       "      <th>29</th>\n",
       "      <td>Age</td>\n",
       "      <td>Survived</td>\n",
       "      <td>0.077221</td>\n",
       "    </tr>\n",
       "    <tr>\n",
       "      <th>41</th>\n",
       "      <td>Age</td>\n",
       "      <td>PassengerId</td>\n",
       "      <td>0.028814</td>\n",
       "    </tr>\n",
       "  </tbody>\n",
       "</table>\n",
       "</div>"
      ],
      "text/plain": [
       "   Feature1     Feature2  Corr_Coeff\n",
       "6       Age          Age    1.000000\n",
       "9       Age       Pclass    0.408106\n",
       "17      Age        SibSp    0.243699\n",
       "22      Age         Fare    0.178740\n",
       "25      Age        Parch    0.150917\n",
       "29      Age     Survived    0.077221\n",
       "41      Age  PassengerId    0.028814"
      ]
     },
     "execution_count": 8,
     "metadata": {},
     "output_type": "execute_result"
    }
   ],
   "source": [
    "# 这一步是计算所有元素之间的相关，然后做成表格的形式\n",
    "df_all_corr = df_all.corr().abs().unstack().sort_values(ascending= False).reset_index() \n",
    "# 下面这个是对表格的题目做一下rename \n",
    "df_all_corr.rename(columns={'level_0':'Feature1','level_1':'Feature2',0:'Corr_Coeff'},inplace  = True)\n",
    "df_all_corr[df_all_corr['Feature1'] == 'Age']"
   ]
  },
  {
   "cell_type": "code",
   "execution_count": 9,
   "metadata": {
    "collapsed": false,
    "scrolled": true
   },
   "outputs": [
    {
     "data": {
      "text/plain": [
       "Sex     Pclass\n",
       "female  1         36.0\n",
       "        2         28.0\n",
       "        3         22.0\n",
       "male    1         42.0\n",
       "        2         29.5\n",
       "        3         25.0\n",
       "Name: Age, dtype: float64"
      ]
     },
     "execution_count": 9,
     "metadata": {},
     "output_type": "execute_result"
    }
   ],
   "source": [
    "### 对数据分组后,对于各个分组缺失的数据，由各个分组的median值来填充\n",
    "df_all.groupby(['Sex','Pclass']).median()['Age']"
   ]
  },
  {
   "cell_type": "code",
   "execution_count": 10,
   "metadata": {
    "collapsed": false
   },
   "outputs": [],
   "source": [
    "## 填充\n",
    "df_all['Age'] = df_all.groupby(['Sex','Pclass'])['Age'].apply(lambda x: x.fillna(x.median()))\n",
    "#df_all['Age'].isnull().sum()"
   ]
  },
  {
   "cell_type": "markdown",
   "metadata": {},
   "source": [
    "### 2.4 再处理缺失Embarked 数据"
   ]
  },
  {
   "cell_type": "code",
   "execution_count": 11,
   "metadata": {
    "collapsed": false,
    "scrolled": true
   },
   "outputs": [
    {
     "data": {
      "text/html": [
       "<div>\n",
       "<table border=\"1\" class=\"dataframe\">\n",
       "  <thead>\n",
       "    <tr style=\"text-align: right;\">\n",
       "      <th></th>\n",
       "      <th>Age</th>\n",
       "      <th>Cabin</th>\n",
       "      <th>Embarked</th>\n",
       "      <th>Fare</th>\n",
       "      <th>Name</th>\n",
       "      <th>Parch</th>\n",
       "      <th>PassengerId</th>\n",
       "      <th>Pclass</th>\n",
       "      <th>Sex</th>\n",
       "      <th>SibSp</th>\n",
       "      <th>Survived</th>\n",
       "      <th>Ticket</th>\n",
       "    </tr>\n",
       "  </thead>\n",
       "  <tbody>\n",
       "    <tr>\n",
       "      <th>61</th>\n",
       "      <td>38.0</td>\n",
       "      <td>B28</td>\n",
       "      <td>NaN</td>\n",
       "      <td>80.0</td>\n",
       "      <td>Icard, Miss. Amelie</td>\n",
       "      <td>0</td>\n",
       "      <td>62</td>\n",
       "      <td>1</td>\n",
       "      <td>female</td>\n",
       "      <td>0</td>\n",
       "      <td>1.0</td>\n",
       "      <td>113572</td>\n",
       "    </tr>\n",
       "    <tr>\n",
       "      <th>829</th>\n",
       "      <td>62.0</td>\n",
       "      <td>B28</td>\n",
       "      <td>NaN</td>\n",
       "      <td>80.0</td>\n",
       "      <td>Stone, Mrs. George Nelson (Martha Evelyn)</td>\n",
       "      <td>0</td>\n",
       "      <td>830</td>\n",
       "      <td>1</td>\n",
       "      <td>female</td>\n",
       "      <td>0</td>\n",
       "      <td>1.0</td>\n",
       "      <td>113572</td>\n",
       "    </tr>\n",
       "  </tbody>\n",
       "</table>\n",
       "</div>"
      ],
      "text/plain": [
       "      Age Cabin Embarked  Fare                                       Name  \\\n",
       "61   38.0   B28      NaN  80.0                        Icard, Miss. Amelie   \n",
       "829  62.0   B28      NaN  80.0  Stone, Mrs. George Nelson (Martha Evelyn)   \n",
       "\n",
       "     Parch  PassengerId  Pclass     Sex  SibSp  Survived  Ticket  \n",
       "61       0           62       1  female      0       1.0  113572  \n",
       "829      0          830       1  female      0       1.0  113572  "
      ]
     },
     "execution_count": 11,
     "metadata": {},
     "output_type": "execute_result"
    }
   ],
   "source": [
    "df_all[df_all['Embarked'].isnull()]"
   ]
  },
  {
   "cell_type": "code",
   "execution_count": 12,
   "metadata": {
    "collapsed": false
   },
   "outputs": [
    {
     "data": {
      "text/plain": [
       "S    8\n",
       "C    3\n",
       "Name: Embarked, dtype: int64"
      ]
     },
     "execution_count": 12,
     "metadata": {},
     "output_type": "execute_result"
    }
   ],
   "source": [
    "## 抽取出船票号并转成数字，方便后边执行 = [(df_all['Ticket']>=110152)&(df_all['Ticket']<=113798)]\n",
    "#df_all.groupby(['Sex','Pclass','Parch','SibSp','Ticket'])['Embarked'].value_counts()\n",
    "df_all['Ticket_Nums'] = df_all['Ticket'].map(lambda x:re.sub('\\D','',x))\n",
    "df_all['Ticket_Nums'] = pd.to_numeric(df_all['Ticket_Nums'])\n",
    "select_data = df_all[(df_all['Sex'] == 'female')&(df_all['SibSp'] == 0)&(df_all['Parch'] == 0)&(df_all['Pclass'] ==1)]\n",
    "data_sel    = select_data[(df_all['Ticket_Nums']>=110152)&(df_all['Ticket_Nums']<=113798)]\n",
    "data_sel['Embarked'].value_counts()"
   ]
  },
  {
   "cell_type": "code",
   "execution_count": 13,
   "metadata": {
    "collapsed": true
   },
   "outputs": [],
   "source": [
    "###从上面的结果可以看出  - S占有的数量占多数，所以填充缺失的embarked值用‘S’\n",
    "df_all = df_all.drop('Ticket_Nums',axis = 1)\n",
    "df_all['Embarked']= df_all['Embarked'].fillna(\"S\")\n",
    "#df_all['Embarked'].isnull().sum()"
   ]
  },
  {
   "cell_type": "markdown",
   "metadata": {},
   "source": [
    "### 2.5 再处理缺失Fare数据  - 票的价钱"
   ]
  },
  {
   "cell_type": "code",
   "execution_count": 14,
   "metadata": {
    "collapsed": false
   },
   "outputs": [
    {
     "data": {
      "text/html": [
       "<div>\n",
       "<table border=\"1\" class=\"dataframe\">\n",
       "  <thead>\n",
       "    <tr style=\"text-align: right;\">\n",
       "      <th></th>\n",
       "      <th>Age</th>\n",
       "      <th>Cabin</th>\n",
       "      <th>Embarked</th>\n",
       "      <th>Fare</th>\n",
       "      <th>Name</th>\n",
       "      <th>Parch</th>\n",
       "      <th>PassengerId</th>\n",
       "      <th>Pclass</th>\n",
       "      <th>Sex</th>\n",
       "      <th>SibSp</th>\n",
       "      <th>Survived</th>\n",
       "      <th>Ticket</th>\n",
       "    </tr>\n",
       "  </thead>\n",
       "  <tbody>\n",
       "    <tr>\n",
       "      <th>1043</th>\n",
       "      <td>60.5</td>\n",
       "      <td>NaN</td>\n",
       "      <td>S</td>\n",
       "      <td>NaN</td>\n",
       "      <td>Storey, Mr. Thomas</td>\n",
       "      <td>0</td>\n",
       "      <td>1044</td>\n",
       "      <td>3</td>\n",
       "      <td>male</td>\n",
       "      <td>0</td>\n",
       "      <td>NaN</td>\n",
       "      <td>3701</td>\n",
       "    </tr>\n",
       "  </tbody>\n",
       "</table>\n",
       "</div>"
      ],
      "text/plain": [
       "       Age Cabin Embarked  Fare                Name  Parch  PassengerId  \\\n",
       "1043  60.5   NaN        S   NaN  Storey, Mr. Thomas      0         1044   \n",
       "\n",
       "      Pclass   Sex  SibSp  Survived Ticket  \n",
       "1043       3  male      0       NaN   3701  "
      ]
     },
     "execution_count": 14,
     "metadata": {},
     "output_type": "execute_result"
    }
   ],
   "source": [
    "df_all[df_all['Fare'].isnull()]"
   ]
  },
  {
   "cell_type": "code",
   "execution_count": 15,
   "metadata": {
    "collapsed": false
   },
   "outputs": [],
   "source": [
    "Fare_value = df_all[(df_all['Embarked'] == 'S')&(df_all['Parch'] == 0) &\n",
    "       (df_all['Pclass'] == 3) & (df_all['Sex'] == 'male') & (df_all['SibSp'] == 0)]['Fare'].median() # 中位数\n",
    "df_all['Fare'] = df_all['Fare'].fillna(Fare_value)"
   ]
  },
  {
   "cell_type": "code",
   "execution_count": 16,
   "metadata": {
    "collapsed": false
   },
   "outputs": [
    {
     "data": {
      "text/html": [
       "<div>\n",
       "<table border=\"1\" class=\"dataframe\">\n",
       "  <thead>\n",
       "    <tr style=\"text-align: right;\">\n",
       "      <th></th>\n",
       "      <th>Age</th>\n",
       "      <th>Cabin</th>\n",
       "      <th>Embarked</th>\n",
       "      <th>Fare</th>\n",
       "      <th>Name</th>\n",
       "      <th>Parch</th>\n",
       "      <th>PassengerId</th>\n",
       "      <th>Pclass</th>\n",
       "      <th>Sex</th>\n",
       "      <th>SibSp</th>\n",
       "      <th>Survived</th>\n",
       "      <th>Ticket</th>\n",
       "    </tr>\n",
       "  </thead>\n",
       "  <tbody>\n",
       "    <tr>\n",
       "      <th>0</th>\n",
       "      <td>22.0</td>\n",
       "      <td>NaN</td>\n",
       "      <td>S</td>\n",
       "      <td>7.2500</td>\n",
       "      <td>Braund, Mr. Owen Harris</td>\n",
       "      <td>0</td>\n",
       "      <td>1</td>\n",
       "      <td>3</td>\n",
       "      <td>male</td>\n",
       "      <td>1</td>\n",
       "      <td>0.0</td>\n",
       "      <td>A/5 21171</td>\n",
       "    </tr>\n",
       "    <tr>\n",
       "      <th>1</th>\n",
       "      <td>38.0</td>\n",
       "      <td>C85</td>\n",
       "      <td>C</td>\n",
       "      <td>71.2833</td>\n",
       "      <td>Cumings, Mrs. John Bradley (Florence Briggs Th...</td>\n",
       "      <td>0</td>\n",
       "      <td>2</td>\n",
       "      <td>1</td>\n",
       "      <td>female</td>\n",
       "      <td>1</td>\n",
       "      <td>1.0</td>\n",
       "      <td>PC 17599</td>\n",
       "    </tr>\n",
       "  </tbody>\n",
       "</table>\n",
       "</div>"
      ],
      "text/plain": [
       "    Age Cabin Embarked     Fare  \\\n",
       "0  22.0   NaN        S   7.2500   \n",
       "1  38.0   C85        C  71.2833   \n",
       "\n",
       "                                                Name  Parch  PassengerId  \\\n",
       "0                            Braund, Mr. Owen Harris      0            1   \n",
       "1  Cumings, Mrs. John Bradley (Florence Briggs Th...      0            2   \n",
       "\n",
       "   Pclass     Sex  SibSp  Survived     Ticket  \n",
       "0       3    male      1       0.0  A/5 21171  \n",
       "1       1  female      1       1.0   PC 17599  "
      ]
     },
     "execution_count": 16,
     "metadata": {},
     "output_type": "execute_result"
    }
   ],
   "source": [
    "df_all.head(2)"
   ]
  },
  {
   "cell_type": "markdown",
   "metadata": {},
   "source": [
    "### 2.6 抽取座舱Cabin的首字母来做成一个新的特征"
   ]
  },
  {
   "cell_type": "code",
   "execution_count": 17,
   "metadata": {
    "collapsed": true
   },
   "outputs": [],
   "source": [
    "df_all['Deck'] = df_all['Cabin'].apply(lambda x:x[0] if pd.notnull(x) else 'M')\n",
    "#df_all['Deck'].unique()\n",
    "#array(['M', 'C', 'E', 'G', 'D', 'A', 'B', 'F', 'T'], dtype=object)"
   ]
  },
  {
   "cell_type": "code",
   "execution_count": 18,
   "metadata": {
    "collapsed": true
   },
   "outputs": [],
   "source": [
    "### 统计了每个座舱的幸存率发现 ABC都是Pclass=1;\n",
    "# DE`是Pclass=1占多数，Pclass=2占少数\n",
    "# FG 是pclass=3占多数，pclass=2占少数\n",
    "# T都是Pclass=1; Deck = T的转成A类"
   ]
  },
  {
   "cell_type": "code",
   "execution_count": 19,
   "metadata": {
    "collapsed": false
   },
   "outputs": [],
   "source": [
    "## 将分组归类一下\n",
    "T_index = df_all[df_all['Deck'] == 'T'].index\n",
    "df_all.loc[T_index,'Deck'] = 'A'\n",
    "df_all['Deck'] = df_all['Deck'].replace(['A','B','C'],'ABC')\n",
    "df_all['Deck'] = df_all['Deck'].replace(['D','E'],'DE')\n",
    "df_all['Deck'] = df_all['Deck'].replace(['F','G'],'FG')\n",
    "#df_all['Deck'].value_counts()"
   ]
  },
  {
   "cell_type": "code",
   "execution_count": 20,
   "metadata": {
    "collapsed": false
   },
   "outputs": [
    {
     "data": {
      "text/html": [
       "<div>\n",
       "<table border=\"1\" class=\"dataframe\">\n",
       "  <thead>\n",
       "    <tr style=\"text-align: right;\">\n",
       "      <th></th>\n",
       "      <th>Age</th>\n",
       "      <th>Cabin</th>\n",
       "      <th>Embarked</th>\n",
       "      <th>Fare</th>\n",
       "      <th>Name</th>\n",
       "      <th>Parch</th>\n",
       "      <th>PassengerId</th>\n",
       "      <th>Pclass</th>\n",
       "      <th>Sex</th>\n",
       "      <th>SibSp</th>\n",
       "      <th>Survived</th>\n",
       "      <th>Ticket</th>\n",
       "      <th>Deck</th>\n",
       "    </tr>\n",
       "  </thead>\n",
       "  <tbody>\n",
       "    <tr>\n",
       "      <th>0</th>\n",
       "      <td>22.0</td>\n",
       "      <td>NaN</td>\n",
       "      <td>S</td>\n",
       "      <td>7.2500</td>\n",
       "      <td>Braund, Mr. Owen Harris</td>\n",
       "      <td>0</td>\n",
       "      <td>1</td>\n",
       "      <td>3</td>\n",
       "      <td>male</td>\n",
       "      <td>1</td>\n",
       "      <td>0.0</td>\n",
       "      <td>A/5 21171</td>\n",
       "      <td>M</td>\n",
       "    </tr>\n",
       "    <tr>\n",
       "      <th>1</th>\n",
       "      <td>38.0</td>\n",
       "      <td>C85</td>\n",
       "      <td>C</td>\n",
       "      <td>71.2833</td>\n",
       "      <td>Cumings, Mrs. John Bradley (Florence Briggs Th...</td>\n",
       "      <td>0</td>\n",
       "      <td>2</td>\n",
       "      <td>1</td>\n",
       "      <td>female</td>\n",
       "      <td>1</td>\n",
       "      <td>1.0</td>\n",
       "      <td>PC 17599</td>\n",
       "      <td>ABC</td>\n",
       "    </tr>\n",
       "  </tbody>\n",
       "</table>\n",
       "</div>"
      ],
      "text/plain": [
       "    Age Cabin Embarked     Fare  \\\n",
       "0  22.0   NaN        S   7.2500   \n",
       "1  38.0   C85        C  71.2833   \n",
       "\n",
       "                                                Name  Parch  PassengerId  \\\n",
       "0                            Braund, Mr. Owen Harris      0            1   \n",
       "1  Cumings, Mrs. John Bradley (Florence Briggs Th...      0            2   \n",
       "\n",
       "   Pclass     Sex  SibSp  Survived     Ticket Deck  \n",
       "0       3    male      1       0.0  A/5 21171    M  \n",
       "1       1  female      1       1.0   PC 17599  ABC  "
      ]
     },
     "execution_count": 20,
     "metadata": {},
     "output_type": "execute_result"
    }
   ],
   "source": [
    "df_all.head(2)"
   ]
  },
  {
   "cell_type": "markdown",
   "metadata": {},
   "source": [
    "### 2.7 幸存率和死亡率"
   ]
  },
  {
   "cell_type": "code",
   "execution_count": 21,
   "metadata": {
    "collapsed": false
   },
   "outputs": [
    {
     "name": "stdout",
     "output_type": "stream",
     "text": [
      "幸存率是38.38%,  死亡率是61.62%\n"
     ]
    }
   ],
   "source": [
    "survived_1 = df_all[df_all['Survived'] == 1]['Survived'].value_counts()#df_all['Survived'].value_counts()[0]\n",
    "survived_0 = df_all[df_all['Survived'] == 0]['Survived'].value_counts()\n",
    "print(\"幸存率是{:0.2f}%,  死亡率是{:0.2f}%\".format(100*survived_1[1]/df_train.shape[0],100*survived_0[0]/df_train.shape[0]))"
   ]
  },
  {
   "cell_type": "code",
   "execution_count": 22,
   "metadata": {
    "collapsed": false
   },
   "outputs": [
    {
     "data": {
      "image/png": "[encoded data removed]",
      "text/plain": [
       "<matplotlib.figure.Figure at 0x64b6c50>"
      ]
     },
     "metadata": {},
     "output_type": "display_data"
    }
   ],
   "source": [
    "plt.figure(figsize = (4,3))\n",
    "sns.countplot(df_train['Survived'])\n",
    "plt.xlabel('Survived',size=8)\n",
    "plt.ylabel('Passenger TotalCounts',size=8)\n",
    "plt.title('TrainingSet Survived Rate',size =8)\n",
    "survived_rate = 100*survived_1[1]/df_train.shape[0]\n",
    "notsurvived_rate = 100*survived_0[0]/df_train.shape[0]\n",
    "plt.xticks((1,0),['Survived({0:.2f}%)'.format(survived_rate),'NotSurvived({0:.2f}%)'.format(notsurvived_rate)])\n",
    "plt.tick_params(axis = 'x')\n",
    "plt.show()"
   ]
  },
  {
   "cell_type": "markdown",
   "metadata": {},
   "source": [
    "### 2.8 相关的计算"
   ]
  },
  {
   "cell_type": "code",
   "execution_count": 23,
   "metadata": {
    "collapsed": false
   },
   "outputs": [],
   "source": [
    "df_trian_corr = df_train.drop('PassengerId',axis=1).corr().abs().unstack().sort_values(ascending= False).reset_index()\n",
    "df_test_corr  = df_test.drop('PassengerId',axis=1).corr().abs().unstack().sort_values(ascending= False).reset_index()\n",
    "\n",
    "df_trian_corr = df_trian_corr.rename(columns={'level_0':'Featrue1','level_1':'Feature2',0:'Corr_coeff'},inplace=True)\n",
    "#df_trian_corr[df_trian_corr['Corr_coeff']>0.1]"
   ]
  },
  {
   "cell_type": "code",
   "execution_count": 24,
   "metadata": {
    "collapsed": false
   },
   "outputs": [
    {
     "data": {
      "text/html": [
       "<div>\n",
       "<table border=\"1\" class=\"dataframe\">\n",
       "  <thead>\n",
       "    <tr style=\"text-align: right;\">\n",
       "      <th></th>\n",
       "      <th>Age</th>\n",
       "      <th>Embarked</th>\n",
       "      <th>Fare</th>\n",
       "      <th>Name</th>\n",
       "      <th>Parch</th>\n",
       "      <th>PassengerId</th>\n",
       "      <th>Pclass</th>\n",
       "      <th>Sex</th>\n",
       "      <th>SibSp</th>\n",
       "      <th>Survived</th>\n",
       "      <th>Ticket</th>\n",
       "      <th>Deck</th>\n",
       "    </tr>\n",
       "  </thead>\n",
       "  <tbody>\n",
       "    <tr>\n",
       "      <th>0</th>\n",
       "      <td>22.0</td>\n",
       "      <td>S</td>\n",
       "      <td>7.2500</td>\n",
       "      <td>Braund, Mr. Owen Harris</td>\n",
       "      <td>0</td>\n",
       "      <td>1</td>\n",
       "      <td>3</td>\n",
       "      <td>male</td>\n",
       "      <td>1</td>\n",
       "      <td>0.0</td>\n",
       "      <td>A/5 21171</td>\n",
       "      <td>M</td>\n",
       "    </tr>\n",
       "    <tr>\n",
       "      <th>1</th>\n",
       "      <td>38.0</td>\n",
       "      <td>C</td>\n",
       "      <td>71.2833</td>\n",
       "      <td>Cumings, Mrs. John Bradley (Florence Briggs Th...</td>\n",
       "      <td>0</td>\n",
       "      <td>2</td>\n",
       "      <td>1</td>\n",
       "      <td>female</td>\n",
       "      <td>1</td>\n",
       "      <td>1.0</td>\n",
       "      <td>PC 17599</td>\n",
       "      <td>ABC</td>\n",
       "    </tr>\n",
       "  </tbody>\n",
       "</table>\n",
       "</div>"
      ],
      "text/plain": [
       "    Age Embarked     Fare                                               Name  \\\n",
       "0  22.0        S   7.2500                            Braund, Mr. Owen Harris   \n",
       "1  38.0        C  71.2833  Cumings, Mrs. John Bradley (Florence Briggs Th...   \n",
       "\n",
       "   Parch  PassengerId  Pclass     Sex  SibSp  Survived     Ticket Deck  \n",
       "0      0            1       3    male      1       0.0  A/5 21171    M  \n",
       "1      0            2       1  female      1       1.0   PC 17599  ABC  "
      ]
     },
     "execution_count": 24,
     "metadata": {},
     "output_type": "execute_result"
    }
   ],
   "source": [
    "## 结论: 大部分的样本都是彼此相关的，这些相关可以用来创建新的特征；目标编码traget encoding可以非常有用，因为他们跟\n",
    "#  survived 是相关的\n",
    "# 离散的种类特征跟幸存率也有相关，这些特征可以通过one=hot编码来表示。创建了一个新的特征-去掉了Cabin的特征\n",
    "df_all=df_all.drop('Cabin',axis=1)\n",
    "df_all.head(2)"
   ]
  },
  {
   "cell_type": "markdown",
   "metadata": {},
   "source": [
    "## 3 特征工程 - 连续特征的处理 - Age and Fare"
   ]
  },
  {
   "cell_type": "markdown",
   "metadata": {},
   "source": [
    "### 3.1 将Fare特征切割成13分段 - 每个分段的样本数据都有自己的生成率和死亡率"
   ]
  },
  {
   "cell_type": "code",
   "execution_count": 25,
   "metadata": {
    "collapsed": true
   },
   "outputs": [],
   "source": [
    "df_all['Fare'] = pd.qcut(df_all['Fare'],13)"
   ]
  },
  {
   "cell_type": "code",
   "execution_count": 26,
   "metadata": {
    "collapsed": false
   },
   "outputs": [
    {
     "data": {
      "image/png": "[encoded data removed]",
      "text/plain": [
       "<matplotlib.figure.Figure at 0x64f3e80>"
      ]
     },
     "metadata": {},
     "output_type": "display_data"
    }
   ],
   "source": [
    "### 下面的代码可以通过图像看一看\n",
    "plt.figure(figsize = (24,3))\n",
    "sns.countplot(x = 'Fare',hue = \"Survived\",data = df_all)\n",
    "plt.xlabel('Fare',size =20)\n",
    "plt.tick_params(axis = 'x',labelsize=13) # x轴刻度的大小\n",
    "plt.tick_params(axis = 'y',labelsize=12) # y轴刻度的大小\n",
    "plt.show()"
   ]
  },
  {
   "cell_type": "markdown",
   "metadata": {},
   "source": [
    "### 3.2 将Age特征切割成10分段 - 每个分段的样本数据都有自己的生成率和死亡率"
   ]
  },
  {
   "cell_type": "code",
   "execution_count": 27,
   "metadata": {
    "collapsed": false
   },
   "outputs": [],
   "source": [
    "df_all[\"Age\"] = pd.qcut(df_all[\"Age\"],10)"
   ]
  },
  {
   "cell_type": "code",
   "execution_count": 28,
   "metadata": {
    "collapsed": false
   },
   "outputs": [
    {
     "data": {
      "image/png": "[encoded data removed]",
      "text/plain": [
       "<matplotlib.figure.Figure at 0x65326a0>"
      ]
     },
     "metadata": {},
     "output_type": "display_data"
    }
   ],
   "source": [
    "### 下面的代码可以通过图像看一看\n",
    "plt.figure(figsize = (20,3))\n",
    "sns.countplot(x = 'Age',hue = \"Survived\",data = df_all)\n",
    "plt.xlabel('Age',size =20)\n",
    "plt.tick_params(axis = 'x',labelsize=13) # x轴刻度的大小\n",
    "plt.tick_params(axis = 'y',labelsize=12) # y轴刻度的大小\n",
    "plt.show()"
   ]
  },
  {
   "cell_type": "code",
   "execution_count": 29,
   "metadata": {
    "collapsed": false
   },
   "outputs": [
    {
     "data": {
      "text/html": [
       "<div>\n",
       "<table border=\"1\" class=\"dataframe\">\n",
       "  <thead>\n",
       "    <tr style=\"text-align: right;\">\n",
       "      <th></th>\n",
       "      <th>Age</th>\n",
       "      <th>Embarked</th>\n",
       "      <th>Fare</th>\n",
       "      <th>Name</th>\n",
       "      <th>Parch</th>\n",
       "      <th>PassengerId</th>\n",
       "      <th>Pclass</th>\n",
       "      <th>Sex</th>\n",
       "      <th>SibSp</th>\n",
       "      <th>Survived</th>\n",
       "      <th>Ticket</th>\n",
       "      <th>Deck</th>\n",
       "    </tr>\n",
       "  </thead>\n",
       "  <tbody>\n",
       "    <tr>\n",
       "      <th>0</th>\n",
       "      <td>(21, 22]</td>\n",
       "      <td>S</td>\n",
       "      <td>[0, 7.25]</td>\n",
       "      <td>Braund, Mr. Owen Harris</td>\n",
       "      <td>0</td>\n",
       "      <td>1</td>\n",
       "      <td>3</td>\n",
       "      <td>male</td>\n",
       "      <td>1</td>\n",
       "      <td>0.0</td>\n",
       "      <td>A/5 21171</td>\n",
       "      <td>M</td>\n",
       "    </tr>\n",
       "    <tr>\n",
       "      <th>1</th>\n",
       "      <td>(34, 40]</td>\n",
       "      <td>C</td>\n",
       "      <td>(56.496, 83.475]</td>\n",
       "      <td>Cumings, Mrs. John Bradley (Florence Briggs Th...</td>\n",
       "      <td>0</td>\n",
       "      <td>2</td>\n",
       "      <td>1</td>\n",
       "      <td>female</td>\n",
       "      <td>1</td>\n",
       "      <td>1.0</td>\n",
       "      <td>PC 17599</td>\n",
       "      <td>ABC</td>\n",
       "    </tr>\n",
       "  </tbody>\n",
       "</table>\n",
       "</div>"
      ],
      "text/plain": [
       "        Age Embarked              Fare  \\\n",
       "0  (21, 22]        S         [0, 7.25]   \n",
       "1  (34, 40]        C  (56.496, 83.475]   \n",
       "\n",
       "                                                Name  Parch  PassengerId  \\\n",
       "0                            Braund, Mr. Owen Harris      0            1   \n",
       "1  Cumings, Mrs. John Bradley (Florence Briggs Th...      0            2   \n",
       "\n",
       "   Pclass     Sex  SibSp  Survived     Ticket Deck  \n",
       "0       3    male      1       0.0  A/5 21171    M  \n",
       "1       1  female      1       1.0   PC 17599  ABC  "
      ]
     },
     "execution_count": 29,
     "metadata": {},
     "output_type": "execute_result"
    }
   ],
   "source": [
    "df_all.head(2)"
   ]
  },
  {
   "cell_type": "markdown",
   "metadata": {},
   "source": [
    "### 3.3 引入新的特征: Family_Size and Ticket_Frequency"
   ]
  },
  {
   "cell_type": "code",
   "execution_count": 30,
   "metadata": {
    "collapsed": true
   },
   "outputs": [],
   "source": [
    "df_all['Family_Size'] = df_all['SibSp'] + df_all['Parch'] + 1"
   ]
  },
  {
   "cell_type": "code",
   "execution_count": 31,
   "metadata": {
    "collapsed": false
   },
   "outputs": [
    {
     "data": {
      "image/png": "[encoded data removed]",
      "text/plain": [
       "<matplotlib.figure.Figure at 0x68cc588>"
      ]
     },
     "metadata": {},
     "output_type": "display_data"
    }
   ],
   "source": [
    "### 下面分别图像显示每个分类的总数及每个分类的幸存率和死亡率比例\n",
    "fig,axs = plt.subplots(figsize = (16,6),ncols =2,nrows=2)\n",
    "sns.barplot(x = df_all['Family_Size'].value_counts().index,y = df_all['Family_Size'].value_counts().values,ax =\n",
    "            axs[0][0])\n",
    "\n",
    "axs[0][0].set_title(\"Family_Size Values Counts\",size =12)\n",
    "\n",
    "sns.countplot(x = 'Family_Size',hue = 'Survived',data =df_all,ax = axs[0][1])\n",
    "axs[0][1].set_title(\"Survived Counts in Family_Size Feature\",size =12)\n",
    "\n",
    "\n",
    "##-------------- 第2行的图像------------\n",
    "# 将Family_Size 按照大小进行分类，分成Alone,Small,Medium,Large - 4 个分类\n",
    "family_map = {1:'Alone',2:'Small',3:'Small',4:'Small',5:'Medium',6:'Medium',7:'Large',8:'Large',11:'Large'}\n",
    "df_all['Family_Size_Grouped'] = df_all['Family_Size'].map(family_map)\n",
    "sns.barplot(x = df_all['Family_Size_Grouped'].value_counts().index,\n",
    "           y = df_all['Family_Size_Grouped'].value_counts().values,ax = axs[1][0])\n",
    "axs[1][0].set_title(\"Family_Size Values Counts After Grouping\",size =12)\n",
    "\n",
    "sns.countplot(x = 'Family_Size_Grouped',hue = 'Survived',data = df_all,ax = axs[1][1])\n",
    "axs[1][1].set_title(\"Survived Counts in Family_Size Feature After Grouping\",size =12)\n",
    "\n",
    "for i in range(2):\n",
    "    axs[i][1].legend(['Not Survived', 'Survived'], loc='upper right', prop={'size': 10})\n",
    "    for j in range(2):\n",
    "        axs[i][j].tick_params(axis='x', labelsize=10)\n",
    "        axs[i][j].tick_params(axis='y', labelsize=10)\n",
    "        axs[i][j].set_xlabel('')\n",
    "        axs[i][j].set_ylabel('')\n",
    "\n",
    "plt.show()"
   ]
  },
  {
   "cell_type": "code",
   "execution_count": 32,
   "metadata": {
    "collapsed": true
   },
   "outputs": [],
   "source": [
    "df_all['Ticket_Frequency'] = df_all.groupby('Ticket')['Ticket'].transform('count')"
   ]
  },
  {
   "cell_type": "markdown",
   "metadata": {},
   "source": [
    "### 3.4 引入新的特征: Title and Ismarried "
   ]
  },
  {
   "cell_type": "code",
   "execution_count": 33,
   "metadata": {
    "collapsed": false
   },
   "outputs": [],
   "source": [
    "df_all['Title'] = df_all['Name'].str.split(', ', expand=True)[1].str.split('.', expand=True)[0] # 第一个逗号后面要有空格\n",
    "df_all['Is_Married'] = 0\n",
    "df_all['Is_Married'].loc[df_all['Title'] == 'Mrs'] = 1 \n",
    "df_all['Title'] = df_all['Title'].replace(['Miss', 'Mrs','Ms', 'Mlle', 'Lady', 'Mme', 'the Countess', 'Dona'], 'Miss/Mrs/Ms')\n",
    "df_all['Title'] = df_all['Title'].replace(['Dr', 'Col', 'Major', 'Jonkheer', 'Capt', 'Sir', 'Don', 'Rev'], 'Dr/Military/Noble/Clergy')"
   ]
  },
  {
   "cell_type": "markdown",
   "metadata": {},
   "source": [
    "### 3.5 引入新的特征: Family"
   ]
  },
  {
   "cell_type": "code",
   "execution_count": 34,
   "metadata": {
    "collapsed": true
   },
   "outputs": [],
   "source": [
    "def extract_surname(data):\n",
    "    families = []\n",
    "    for i in range(len(data)):\n",
    "        name = data.iloc[i]\n",
    "        if '(' in name:\n",
    "            name_no_bracket = name.split('(')[0]\n",
    "        else:\n",
    "            name_no_bracket = name \n",
    "        family = name_no_bracket.split(',')[0]\n",
    "        title  = name_no_bracket.split(',')[1].strip().split(' ')[0]\n",
    "        for c in string.punctuation:\n",
    "            family = family.replace(c,'').strip()\n",
    "        families.append(family)\n",
    "    return families"
   ]
  },
  {
   "cell_type": "code",
   "execution_count": 35,
   "metadata": {
    "collapsed": false
   },
   "outputs": [],
   "source": [
    "df_all['Family'] = extract_surname(df_all['Name'])"
   ]
  },
  {
   "cell_type": "code",
   "execution_count": 36,
   "metadata": {
    "collapsed": false,
    "scrolled": true
   },
   "outputs": [
    {
     "data": {
      "text/html": [
       "<div>\n",
       "<table border=\"1\" class=\"dataframe\">\n",
       "  <thead>\n",
       "    <tr style=\"text-align: right;\">\n",
       "      <th></th>\n",
       "      <th>Age</th>\n",
       "      <th>Embarked</th>\n",
       "      <th>Fare</th>\n",
       "      <th>Name</th>\n",
       "      <th>Parch</th>\n",
       "      <th>PassengerId</th>\n",
       "      <th>Pclass</th>\n",
       "      <th>Sex</th>\n",
       "      <th>SibSp</th>\n",
       "      <th>Survived</th>\n",
       "      <th>Ticket</th>\n",
       "      <th>Deck</th>\n",
       "      <th>Family_Size</th>\n",
       "      <th>Family_Size_Grouped</th>\n",
       "      <th>Ticket_Frequency</th>\n",
       "      <th>Title</th>\n",
       "      <th>Is_Married</th>\n",
       "      <th>Family</th>\n",
       "    </tr>\n",
       "  </thead>\n",
       "  <tbody>\n",
       "    <tr>\n",
       "      <th>0</th>\n",
       "      <td>(21, 22]</td>\n",
       "      <td>S</td>\n",
       "      <td>[0, 7.25]</td>\n",
       "      <td>Braund, Mr. Owen Harris</td>\n",
       "      <td>0</td>\n",
       "      <td>1</td>\n",
       "      <td>3</td>\n",
       "      <td>male</td>\n",
       "      <td>1</td>\n",
       "      <td>0.0</td>\n",
       "      <td>A/5 21171</td>\n",
       "      <td>M</td>\n",
       "      <td>2</td>\n",
       "      <td>Small</td>\n",
       "      <td>1</td>\n",
       "      <td>Mr</td>\n",
       "      <td>0</td>\n",
       "      <td>Braund</td>\n",
       "    </tr>\n",
       "    <tr>\n",
       "      <th>1</th>\n",
       "      <td>(34, 40]</td>\n",
       "      <td>C</td>\n",
       "      <td>(56.496, 83.475]</td>\n",
       "      <td>Cumings, Mrs. John Bradley (Florence Briggs Th...</td>\n",
       "      <td>0</td>\n",
       "      <td>2</td>\n",
       "      <td>1</td>\n",
       "      <td>female</td>\n",
       "      <td>1</td>\n",
       "      <td>1.0</td>\n",
       "      <td>PC 17599</td>\n",
       "      <td>ABC</td>\n",
       "      <td>2</td>\n",
       "      <td>Small</td>\n",
       "      <td>2</td>\n",
       "      <td>Miss/Mrs/Ms</td>\n",
       "      <td>1</td>\n",
       "      <td>Cumings</td>\n",
       "    </tr>\n",
       "  </tbody>\n",
       "</table>\n",
       "</div>"
      ],
      "text/plain": [
       "        Age Embarked              Fare  \\\n",
       "0  (21, 22]        S         [0, 7.25]   \n",
       "1  (34, 40]        C  (56.496, 83.475]   \n",
       "\n",
       "                                                Name  Parch  PassengerId  \\\n",
       "0                            Braund, Mr. Owen Harris      0            1   \n",
       "1  Cumings, Mrs. John Bradley (Florence Briggs Th...      0            2   \n",
       "\n",
       "   Pclass     Sex  SibSp  Survived     Ticket Deck  Family_Size  \\\n",
       "0       3    male      1       0.0  A/5 21171    M            2   \n",
       "1       1  female      1       1.0   PC 17599  ABC            2   \n",
       "\n",
       "  Family_Size_Grouped  Ticket_Frequency        Title  Is_Married   Family  \n",
       "0               Small                 1           Mr           0   Braund  \n",
       "1               Small                 2  Miss/Mrs/Ms           1  Cumings  "
      ]
     },
     "execution_count": 36,
     "metadata": {},
     "output_type": "execute_result"
    }
   ],
   "source": [
    "df_all.head(2)"
   ]
  },
  {
   "cell_type": "code",
   "execution_count": 37,
   "metadata": {
    "collapsed": false
   },
   "outputs": [
    {
     "data": {
      "text/plain": [
       "(1309, 18)"
      ]
     },
     "execution_count": 37,
     "metadata": {},
     "output_type": "execute_result"
    }
   ],
   "source": [
    "df_all.shape"
   ]
  },
  {
   "cell_type": "code",
   "execution_count": 38,
   "metadata": {
    "collapsed": true
   },
   "outputs": [],
   "source": [
    "df_all_backup = df_all.copy()"
   ]
  },
  {
   "cell_type": "markdown",
   "metadata": {},
   "source": [
    "### 3.6 重新切分数据 - 并引入新的特征 Family_survived_rate/Ticket_survived_rate"
   ]
  },
  {
   "cell_type": "code",
   "execution_count": 39,
   "metadata": {
    "collapsed": true
   },
   "outputs": [],
   "source": [
    "df_train = df_all.iloc[:891]\n",
    "df_test  = df_all.iloc[891:]\n",
    "dfs      = [df_train,df_test]"
   ]
  },
  {
   "cell_type": "code",
   "execution_count": 40,
   "metadata": {
    "collapsed": true
   },
   "outputs": [],
   "source": [
    "unique_families = [x for x in df_train['Family'].unique() if x in df_test['Family'].unique()]\n",
    "unique_tickets  = [x for x in df_train['Ticket'].unique() if x in df_test['Ticket'].unique()]\n",
    "family_survive_rate = df_train.groupby(['Family'])['Survived','Family','Family_Size'].median() # df\n",
    "ticket_survive_rate = df_train.groupby(['Ticket'])['Survived','Ticket','Ticket_Frequency'].median() # df\n",
    "family_rate = {} # familyname -> family rate\n",
    "ticket_rate = {} # ticketname -> ticket rate "
   ]
  },
  {
   "cell_type": "code",
   "execution_count": 41,
   "metadata": {
    "collapsed": true
   },
   "outputs": [],
   "source": [
    "for i in range(len(family_survive_rate)):\n",
    "    familyname  = family_survive_rate.index[i]\n",
    "    familysize  = family_survive_rate.iloc[i,1]\n",
    "    familyrate  = family_survive_rate.iloc[i,0]\n",
    "    if familyname in unique_families and familysize>1:\n",
    "        family_rate[familyname] =  familyrate\n",
    "#------------------------\n",
    "for j in range(len(ticket_survive_rate)):\n",
    "    ticketname = ticket_survive_rate.index[j]\n",
    "    ticketfreq = ticket_survive_rate.iloc[j,1]\n",
    "    tiekctrate = ticket_survive_rate.iloc[j,0]\n",
    "    if ticketname in unique_tickets and  ticketfreq>1:\n",
    "        ticket_rate[ticketname] = tiekctrate"
   ]
  },
  {
   "cell_type": "code",
   "execution_count": 42,
   "metadata": {
    "collapsed": false
   },
   "outputs": [],
   "source": [
    "### Family Rate \n",
    "mean_survival_rate  = np.mean(df_train['Survived'])\n",
    "train_family_survived_rate      = []\n",
    "train_family_survived_rate_NULL = []\n",
    "test_family_survived_rate       = []\n",
    "test_family_survived_rate_NULL  = []\n",
    "\n",
    "for i in range(len(df_train)):\n",
    "    if df_train['Family'][i] in family_rate:\n",
    "        train_family_survived_rate.append(family_rate[df_train['Family'][i]])\n",
    "        train_family_survived_rate_NULL.append(1)\n",
    "    else:\n",
    "        train_family_survived_rate.append(mean_survival_rate)\n",
    "        train_family_survived_rate_NULL.append(0)\n",
    "\n",
    "for j in range(len(df_test)):\n",
    "    if df_test['Family'].iloc[j] in family_rate:\n",
    "        test_family_survived_rate.append(family_rate[df_test['Family'].iloc[j]])\n",
    "        test_family_survived_rate_NULL.append(1)\n",
    "    else:\n",
    "        test_family_survived_rate.append(mean_survival_rate)\n",
    "        test_family_survived_rate_NULL.append(0)\n",
    "## 重新赋值给df_all\n",
    "df_train['Family_Survival_Rate']    = train_family_survived_rate\n",
    "df_train['Family_Survival_Rate_NA'] = train_family_survived_rate_NULL\n",
    "df_test['Family_Survival_Rate']     = test_family_survived_rate\n",
    "df_test['Family_Survival_Rate_NA']  = test_family_survived_rate_NULL"
   ]
  },
  {
   "cell_type": "code",
   "execution_count": 43,
   "metadata": {
    "collapsed": false
   },
   "outputs": [],
   "source": [
    "### Ticket Rate\n",
    "mean_survival_rate  = np.mean(df_train['Survived'])\n",
    "train_ticket_survived_rate      = []\n",
    "train_ticket_survived_rate_NULL = []\n",
    "test_ticket_survived_rate       = []\n",
    "test_ticket_survived_rate_NULL  = []\n",
    "\n",
    "for i in range(len(df_train)):\n",
    "    if df_train['Ticket'][i] in ticket_rate:\n",
    "        train_ticket_survived_rate.append(ticket_rate[df_train['Ticket'][i]])\n",
    "        train_ticket_survived_rate_NULL.append(1)\n",
    "    else:\n",
    "        train_ticket_survived_rate.append(mean_survival_rate)\n",
    "        train_ticket_survived_rate_NULL.append(0)\n",
    "\n",
    "for j in range(len(df_test)):\n",
    "    if df_test['Ticket'].iloc[j] in ticket_rate:\n",
    "        test_ticket_survived_rate.append(ticket_rate[df_test['Ticket'].iloc[j]])\n",
    "        test_ticket_survived_rate_NULL.append(1)\n",
    "    else:\n",
    "        test_ticket_survived_rate.append(mean_survival_rate)\n",
    "        test_ticket_survived_rate_NULL.append(0)\n",
    "## 重新赋值给df_all\n",
    "df_train['Ticket_Survival_Rate']    = train_ticket_survived_rate\n",
    "df_train['Ticket_Survival_Rate_NA'] = train_ticket_survived_rate_NULL\n",
    "df_test['Ticket_Survival_Rate']     = test_ticket_survived_rate\n",
    "df_test['Ticket_Survival_Rate_NA']  = test_ticket_survived_rate_NULL"
   ]
  },
  {
   "cell_type": "code",
   "execution_count": 44,
   "metadata": {
    "collapsed": false
   },
   "outputs": [
    {
     "data": {
      "text/html": [
       "<div>\n",
       "<table border=\"1\" class=\"dataframe\">\n",
       "  <thead>\n",
       "    <tr style=\"text-align: right;\">\n",
       "      <th></th>\n",
       "      <th>Age</th>\n",
       "      <th>Embarked</th>\n",
       "      <th>Fare</th>\n",
       "      <th>Name</th>\n",
       "      <th>Parch</th>\n",
       "      <th>PassengerId</th>\n",
       "      <th>Pclass</th>\n",
       "      <th>Sex</th>\n",
       "      <th>SibSp</th>\n",
       "      <th>Survived</th>\n",
       "      <th>Ticket</th>\n",
       "      <th>Deck</th>\n",
       "      <th>Family_Size</th>\n",
       "      <th>Family_Size_Grouped</th>\n",
       "      <th>Ticket_Frequency</th>\n",
       "      <th>Title</th>\n",
       "      <th>Is_Married</th>\n",
       "      <th>Family</th>\n",
       "      <th>Family_Survival_Rate</th>\n",
       "      <th>Family_Survival_Rate_NA</th>\n",
       "      <th>Ticket_Survival_Rate</th>\n",
       "      <th>Ticket_Survival_Rate_NA</th>\n",
       "    </tr>\n",
       "  </thead>\n",
       "  <tbody>\n",
       "    <tr>\n",
       "      <th>0</th>\n",
       "      <td>(21, 22]</td>\n",
       "      <td>S</td>\n",
       "      <td>[0, 7.25]</td>\n",
       "      <td>Braund, Mr. Owen Harris</td>\n",
       "      <td>0</td>\n",
       "      <td>1</td>\n",
       "      <td>3</td>\n",
       "      <td>male</td>\n",
       "      <td>1</td>\n",
       "      <td>0.0</td>\n",
       "      <td>A/5 21171</td>\n",
       "      <td>M</td>\n",
       "      <td>2</td>\n",
       "      <td>Small</td>\n",
       "      <td>1</td>\n",
       "      <td>Mr</td>\n",
       "      <td>0</td>\n",
       "      <td>Braund</td>\n",
       "      <td>0.383838</td>\n",
       "      <td>0</td>\n",
       "      <td>0.383838</td>\n",
       "      <td>0</td>\n",
       "    </tr>\n",
       "    <tr>\n",
       "      <th>1</th>\n",
       "      <td>(34, 40]</td>\n",
       "      <td>C</td>\n",
       "      <td>(56.496, 83.475]</td>\n",
       "      <td>Cumings, Mrs. John Bradley (Florence Briggs Th...</td>\n",
       "      <td>0</td>\n",
       "      <td>2</td>\n",
       "      <td>1</td>\n",
       "      <td>female</td>\n",
       "      <td>1</td>\n",
       "      <td>1.0</td>\n",
       "      <td>PC 17599</td>\n",
       "      <td>ABC</td>\n",
       "      <td>2</td>\n",
       "      <td>Small</td>\n",
       "      <td>2</td>\n",
       "      <td>Miss/Mrs/Ms</td>\n",
       "      <td>1</td>\n",
       "      <td>Cumings</td>\n",
       "      <td>1.000000</td>\n",
       "      <td>1</td>\n",
       "      <td>1.000000</td>\n",
       "      <td>1</td>\n",
       "    </tr>\n",
       "  </tbody>\n",
       "</table>\n",
       "</div>"
      ],
      "text/plain": [
       "        Age Embarked              Fare  \\\n",
       "0  (21, 22]        S         [0, 7.25]   \n",
       "1  (34, 40]        C  (56.496, 83.475]   \n",
       "\n",
       "                                                Name  Parch  PassengerId  \\\n",
       "0                            Braund, Mr. Owen Harris      0            1   \n",
       "1  Cumings, Mrs. John Bradley (Florence Briggs Th...      0            2   \n",
       "\n",
       "   Pclass     Sex  SibSp  Survived     Ticket Deck  Family_Size  \\\n",
       "0       3    male      1       0.0  A/5 21171    M            2   \n",
       "1       1  female      1       1.0   PC 17599  ABC            2   \n",
       "\n",
       "  Family_Size_Grouped  Ticket_Frequency        Title  Is_Married   Family  \\\n",
       "0               Small                 1           Mr           0   Braund   \n",
       "1               Small                 2  Miss/Mrs/Ms           1  Cumings   \n",
       "\n",
       "   Family_Survival_Rate  Family_Survival_Rate_NA  Ticket_Survival_Rate  \\\n",
       "0              0.383838                        0              0.383838   \n",
       "1              1.000000                        1              1.000000   \n",
       "\n",
       "   Ticket_Survival_Rate_NA  \n",
       "0                        0  \n",
       "1                        1  "
      ]
     },
     "execution_count": 44,
     "metadata": {},
     "output_type": "execute_result"
    }
   ],
   "source": [
    "df_train.head(2)"
   ]
  },
  {
   "cell_type": "code",
   "execution_count": 45,
   "metadata": {
    "collapsed": true
   },
   "outputs": [],
   "source": [
    "### 引入一个新的平均特征\n",
    "for df in [df_train,df_test]:\n",
    "    df['Survival_Rate'] = (df['Ticket_Survival_Rate'] + df['Family_Survival_Rate'])/2\n",
    "    df['Survival_Rate_NA'] = (df['Ticket_Survival_Rate_NA'] + df['Family_Survival_Rate_NA'])/2"
   ]
  },
  {
   "cell_type": "code",
   "execution_count": 46,
   "metadata": {
    "collapsed": false
   },
   "outputs": [
    {
     "data": {
      "text/html": [
       "<div>\n",
       "<table border=\"1\" class=\"dataframe\">\n",
       "  <thead>\n",
       "    <tr style=\"text-align: right;\">\n",
       "      <th></th>\n",
       "      <th>Age</th>\n",
       "      <th>Embarked</th>\n",
       "      <th>Fare</th>\n",
       "      <th>Name</th>\n",
       "      <th>Parch</th>\n",
       "      <th>PassengerId</th>\n",
       "      <th>Pclass</th>\n",
       "      <th>Sex</th>\n",
       "      <th>SibSp</th>\n",
       "      <th>Survived</th>\n",
       "      <th>Ticket</th>\n",
       "      <th>Deck</th>\n",
       "      <th>Family_Size</th>\n",
       "      <th>Family_Size_Grouped</th>\n",
       "      <th>Ticket_Frequency</th>\n",
       "      <th>Title</th>\n",
       "      <th>Is_Married</th>\n",
       "      <th>Family</th>\n",
       "      <th>Family_Survival_Rate</th>\n",
       "      <th>Family_Survival_Rate_NA</th>\n",
       "      <th>Ticket_Survival_Rate</th>\n",
       "      <th>Ticket_Survival_Rate_NA</th>\n",
       "      <th>Survival_Rate</th>\n",
       "      <th>Survival_Rate_NA</th>\n",
       "    </tr>\n",
       "  </thead>\n",
       "  <tbody>\n",
       "    <tr>\n",
       "      <th>0</th>\n",
       "      <td>(21, 22]</td>\n",
       "      <td>S</td>\n",
       "      <td>[0, 7.25]</td>\n",
       "      <td>Braund, Mr. Owen Harris</td>\n",
       "      <td>0</td>\n",
       "      <td>1</td>\n",
       "      <td>3</td>\n",
       "      <td>male</td>\n",
       "      <td>1</td>\n",
       "      <td>0.0</td>\n",
       "      <td>A/5 21171</td>\n",
       "      <td>M</td>\n",
       "      <td>2</td>\n",
       "      <td>Small</td>\n",
       "      <td>1</td>\n",
       "      <td>Mr</td>\n",
       "      <td>0</td>\n",
       "      <td>Braund</td>\n",
       "      <td>0.383838</td>\n",
       "      <td>0</td>\n",
       "      <td>0.383838</td>\n",
       "      <td>0</td>\n",
       "      <td>0.383838</td>\n",
       "      <td>0.0</td>\n",
       "    </tr>\n",
       "    <tr>\n",
       "      <th>1</th>\n",
       "      <td>(34, 40]</td>\n",
       "      <td>C</td>\n",
       "      <td>(56.496, 83.475]</td>\n",
       "      <td>Cumings, Mrs. John Bradley (Florence Briggs Th...</td>\n",
       "      <td>0</td>\n",
       "      <td>2</td>\n",
       "      <td>1</td>\n",
       "      <td>female</td>\n",
       "      <td>1</td>\n",
       "      <td>1.0</td>\n",
       "      <td>PC 17599</td>\n",
       "      <td>ABC</td>\n",
       "      <td>2</td>\n",
       "      <td>Small</td>\n",
       "      <td>2</td>\n",
       "      <td>Miss/Mrs/Ms</td>\n",
       "      <td>1</td>\n",
       "      <td>Cumings</td>\n",
       "      <td>1.000000</td>\n",
       "      <td>1</td>\n",
       "      <td>1.000000</td>\n",
       "      <td>1</td>\n",
       "      <td>1.000000</td>\n",
       "      <td>1.0</td>\n",
       "    </tr>\n",
       "  </tbody>\n",
       "</table>\n",
       "</div>"
      ],
      "text/plain": [
       "        Age Embarked              Fare  \\\n",
       "0  (21, 22]        S         [0, 7.25]   \n",
       "1  (34, 40]        C  (56.496, 83.475]   \n",
       "\n",
       "                                                Name  Parch  PassengerId  \\\n",
       "0                            Braund, Mr. Owen Harris      0            1   \n",
       "1  Cumings, Mrs. John Bradley (Florence Briggs Th...      0            2   \n",
       "\n",
       "   Pclass     Sex  SibSp  Survived     Ticket Deck  Family_Size  \\\n",
       "0       3    male      1       0.0  A/5 21171    M            2   \n",
       "1       1  female      1       1.0   PC 17599  ABC            2   \n",
       "\n",
       "  Family_Size_Grouped  Ticket_Frequency        Title  Is_Married   Family  \\\n",
       "0               Small                 1           Mr           0   Braund   \n",
       "1               Small                 2  Miss/Mrs/Ms           1  Cumings   \n",
       "\n",
       "   Family_Survival_Rate  Family_Survival_Rate_NA  Ticket_Survival_Rate  \\\n",
       "0              0.383838                        0              0.383838   \n",
       "1              1.000000                        1              1.000000   \n",
       "\n",
       "   Ticket_Survival_Rate_NA  Survival_Rate  Survival_Rate_NA  \n",
       "0                        0       0.383838               0.0  \n",
       "1                        1       1.000000               1.0  "
      ]
     },
     "execution_count": 46,
     "metadata": {},
     "output_type": "execute_result"
    }
   ],
   "source": [
    "df_train.head(2)"
   ]
  },
  {
   "cell_type": "code",
   "execution_count": 47,
   "metadata": {
    "collapsed": false
   },
   "outputs": [
    {
     "data": {
      "text/html": [
       "<div>\n",
       "<table border=\"1\" class=\"dataframe\">\n",
       "  <thead>\n",
       "    <tr style=\"text-align: right;\">\n",
       "      <th></th>\n",
       "      <th>Age</th>\n",
       "      <th>Embarked</th>\n",
       "      <th>Fare</th>\n",
       "      <th>Name</th>\n",
       "      <th>Parch</th>\n",
       "      <th>PassengerId</th>\n",
       "      <th>Pclass</th>\n",
       "      <th>Sex</th>\n",
       "      <th>SibSp</th>\n",
       "      <th>Survived</th>\n",
       "      <th>Ticket</th>\n",
       "      <th>Deck</th>\n",
       "      <th>Family_Size</th>\n",
       "      <th>Family_Size_Grouped</th>\n",
       "      <th>Ticket_Frequency</th>\n",
       "      <th>Title</th>\n",
       "      <th>Is_Married</th>\n",
       "      <th>Family</th>\n",
       "      <th>Family_Survival_Rate</th>\n",
       "      <th>Family_Survival_Rate_NA</th>\n",
       "      <th>Ticket_Survival_Rate</th>\n",
       "      <th>Ticket_Survival_Rate_NA</th>\n",
       "      <th>Survival_Rate</th>\n",
       "      <th>Survival_Rate_NA</th>\n",
       "    </tr>\n",
       "  </thead>\n",
       "  <tbody>\n",
       "    <tr>\n",
       "      <th>891</th>\n",
       "      <td>(34, 40]</td>\n",
       "      <td>Q</td>\n",
       "      <td>(7.75, 7.896]</td>\n",
       "      <td>Kelly, Mr. James</td>\n",
       "      <td>0</td>\n",
       "      <td>892</td>\n",
       "      <td>3</td>\n",
       "      <td>male</td>\n",
       "      <td>0</td>\n",
       "      <td>NaN</td>\n",
       "      <td>330911</td>\n",
       "      <td>M</td>\n",
       "      <td>1</td>\n",
       "      <td>Alone</td>\n",
       "      <td>1</td>\n",
       "      <td>Mr</td>\n",
       "      <td>0</td>\n",
       "      <td>Kelly</td>\n",
       "      <td>0.383838</td>\n",
       "      <td>0</td>\n",
       "      <td>0.383838</td>\n",
       "      <td>0</td>\n",
       "      <td>0.383838</td>\n",
       "      <td>0.0</td>\n",
       "    </tr>\n",
       "    <tr>\n",
       "      <th>892</th>\n",
       "      <td>(40, 48]</td>\n",
       "      <td>S</td>\n",
       "      <td>[0, 7.25]</td>\n",
       "      <td>Wilkes, Mrs. James (Ellen Needs)</td>\n",
       "      <td>0</td>\n",
       "      <td>893</td>\n",
       "      <td>3</td>\n",
       "      <td>female</td>\n",
       "      <td>1</td>\n",
       "      <td>NaN</td>\n",
       "      <td>363272</td>\n",
       "      <td>M</td>\n",
       "      <td>2</td>\n",
       "      <td>Small</td>\n",
       "      <td>1</td>\n",
       "      <td>Miss/Mrs/Ms</td>\n",
       "      <td>1</td>\n",
       "      <td>Wilkes</td>\n",
       "      <td>0.383838</td>\n",
       "      <td>0</td>\n",
       "      <td>0.383838</td>\n",
       "      <td>0</td>\n",
       "      <td>0.383838</td>\n",
       "      <td>0.0</td>\n",
       "    </tr>\n",
       "  </tbody>\n",
       "</table>\n",
       "</div>"
      ],
      "text/plain": [
       "          Age Embarked           Fare                              Name  \\\n",
       "891  (34, 40]        Q  (7.75, 7.896]                  Kelly, Mr. James   \n",
       "892  (40, 48]        S      [0, 7.25]  Wilkes, Mrs. James (Ellen Needs)   \n",
       "\n",
       "     Parch  PassengerId  Pclass     Sex  SibSp  Survived  Ticket Deck  \\\n",
       "891      0          892       3    male      0       NaN  330911    M   \n",
       "892      0          893       3  female      1       NaN  363272    M   \n",
       "\n",
       "     Family_Size Family_Size_Grouped  Ticket_Frequency        Title  \\\n",
       "891            1               Alone                 1           Mr   \n",
       "892            2               Small                 1  Miss/Mrs/Ms   \n",
       "\n",
       "     Is_Married  Family  Family_Survival_Rate  Family_Survival_Rate_NA  \\\n",
       "891           0   Kelly              0.383838                        0   \n",
       "892           1  Wilkes              0.383838                        0   \n",
       "\n",
       "     Ticket_Survival_Rate  Ticket_Survival_Rate_NA  Survival_Rate  \\\n",
       "891              0.383838                        0       0.383838   \n",
       "892              0.383838                        0       0.383838   \n",
       "\n",
       "     Survival_Rate_NA  \n",
       "891               0.0  \n",
       "892               0.0  "
      ]
     },
     "execution_count": 47,
     "metadata": {},
     "output_type": "execute_result"
    }
   ],
   "source": [
    "df_test.head(2)"
   ]
  },
  {
   "cell_type": "markdown",
   "metadata": {},
   "source": [
    "## 4 特征转换"
   ]
  },
  {
   "cell_type": "markdown",
   "metadata": {},
   "source": [
    "### 4.1 对非数字特征通过label encodering 来编码成1.2.....n"
   ]
  },
  {
   "cell_type": "code",
   "execution_count": 48,
   "metadata": {
    "collapsed": false
   },
   "outputs": [],
   "source": [
    "non_numeric_features = ['Embarked','Sex','Deck','Title','Family_Size_Grouped','Age','Fare']\n",
    "for df in dfs:\n",
    "    for feature in non_numeric_features:\n",
    "        df[feature] =  LabelEncoder().fit_transform(df[feature])"
   ]
  },
  {
   "cell_type": "code",
   "execution_count": 49,
   "metadata": {
    "collapsed": false
   },
   "outputs": [
    {
     "data": {
      "text/html": [
       "<div>\n",
       "<table border=\"1\" class=\"dataframe\">\n",
       "  <thead>\n",
       "    <tr style=\"text-align: right;\">\n",
       "      <th></th>\n",
       "      <th>Age</th>\n",
       "      <th>Embarked</th>\n",
       "      <th>Fare</th>\n",
       "      <th>Name</th>\n",
       "      <th>Parch</th>\n",
       "      <th>PassengerId</th>\n",
       "      <th>Pclass</th>\n",
       "      <th>Sex</th>\n",
       "      <th>SibSp</th>\n",
       "      <th>Survived</th>\n",
       "      <th>Ticket</th>\n",
       "      <th>Deck</th>\n",
       "      <th>Family_Size</th>\n",
       "      <th>Family_Size_Grouped</th>\n",
       "      <th>Ticket_Frequency</th>\n",
       "      <th>Title</th>\n",
       "      <th>Is_Married</th>\n",
       "      <th>Family</th>\n",
       "      <th>Family_Survival_Rate</th>\n",
       "      <th>Family_Survival_Rate_NA</th>\n",
       "      <th>Ticket_Survival_Rate</th>\n",
       "      <th>Ticket_Survival_Rate_NA</th>\n",
       "      <th>Survival_Rate</th>\n",
       "      <th>Survival_Rate_NA</th>\n",
       "    </tr>\n",
       "  </thead>\n",
       "  <tbody>\n",
       "    <tr>\n",
       "      <th>0</th>\n",
       "      <td>1</td>\n",
       "      <td>2</td>\n",
       "      <td>12</td>\n",
       "      <td>Braund, Mr. Owen Harris</td>\n",
       "      <td>0</td>\n",
       "      <td>1</td>\n",
       "      <td>3</td>\n",
       "      <td>1</td>\n",
       "      <td>1</td>\n",
       "      <td>0.0</td>\n",
       "      <td>A/5 21171</td>\n",
       "      <td>3</td>\n",
       "      <td>2</td>\n",
       "      <td>3</td>\n",
       "      <td>1</td>\n",
       "      <td>3</td>\n",
       "      <td>0</td>\n",
       "      <td>Braund</td>\n",
       "      <td>0.383838</td>\n",
       "      <td>0</td>\n",
       "      <td>0.383838</td>\n",
       "      <td>0</td>\n",
       "      <td>0.383838</td>\n",
       "      <td>0.0</td>\n",
       "    </tr>\n",
       "    <tr>\n",
       "      <th>1</th>\n",
       "      <td>6</td>\n",
       "      <td>0</td>\n",
       "      <td>6</td>\n",
       "      <td>Cumings, Mrs. John Bradley (Florence Briggs Th...</td>\n",
       "      <td>0</td>\n",
       "      <td>2</td>\n",
       "      <td>1</td>\n",
       "      <td>0</td>\n",
       "      <td>1</td>\n",
       "      <td>1.0</td>\n",
       "      <td>PC 17599</td>\n",
       "      <td>0</td>\n",
       "      <td>2</td>\n",
       "      <td>3</td>\n",
       "      <td>2</td>\n",
       "      <td>2</td>\n",
       "      <td>1</td>\n",
       "      <td>Cumings</td>\n",
       "      <td>1.000000</td>\n",
       "      <td>1</td>\n",
       "      <td>1.000000</td>\n",
       "      <td>1</td>\n",
       "      <td>1.000000</td>\n",
       "      <td>1.0</td>\n",
       "    </tr>\n",
       "  </tbody>\n",
       "</table>\n",
       "</div>"
      ],
      "text/plain": [
       "   Age  Embarked  Fare                                               Name  \\\n",
       "0    1         2    12                            Braund, Mr. Owen Harris   \n",
       "1    6         0     6  Cumings, Mrs. John Bradley (Florence Briggs Th...   \n",
       "\n",
       "   Parch  PassengerId  Pclass  Sex  SibSp  Survived     Ticket  Deck  \\\n",
       "0      0            1       3    1      1       0.0  A/5 21171     3   \n",
       "1      0            2       1    0      1       1.0   PC 17599     0   \n",
       "\n",
       "   Family_Size  Family_Size_Grouped  Ticket_Frequency  Title  Is_Married  \\\n",
       "0            2                    3                 1      3           0   \n",
       "1            2                    3                 2      2           1   \n",
       "\n",
       "    Family  Family_Survival_Rate  Family_Survival_Rate_NA  \\\n",
       "0   Braund              0.383838                        0   \n",
       "1  Cumings              1.000000                        1   \n",
       "\n",
       "   Ticket_Survival_Rate  Ticket_Survival_Rate_NA  Survival_Rate  \\\n",
       "0              0.383838                        0       0.383838   \n",
       "1              1.000000                        1       1.000000   \n",
       "\n",
       "   Survival_Rate_NA  \n",
       "0               0.0  \n",
       "1               1.0  "
      ]
     },
     "execution_count": 49,
     "metadata": {},
     "output_type": "execute_result"
    }
   ],
   "source": [
    "df_train.head(2)"
   ]
  },
  {
   "cell_type": "code",
   "execution_count": 50,
   "metadata": {
    "collapsed": false,
    "scrolled": true
   },
   "outputs": [
    {
     "data": {
      "text/html": [
       "<div>\n",
       "<table border=\"1\" class=\"dataframe\">\n",
       "  <thead>\n",
       "    <tr style=\"text-align: right;\">\n",
       "      <th></th>\n",
       "      <th>Age</th>\n",
       "      <th>Embarked</th>\n",
       "      <th>Fare</th>\n",
       "      <th>Name</th>\n",
       "      <th>Parch</th>\n",
       "      <th>PassengerId</th>\n",
       "      <th>Pclass</th>\n",
       "      <th>Sex</th>\n",
       "      <th>SibSp</th>\n",
       "      <th>Survived</th>\n",
       "      <th>Ticket</th>\n",
       "      <th>Deck</th>\n",
       "      <th>Family_Size</th>\n",
       "      <th>Family_Size_Grouped</th>\n",
       "      <th>Ticket_Frequency</th>\n",
       "      <th>Title</th>\n",
       "      <th>Is_Married</th>\n",
       "      <th>Family</th>\n",
       "      <th>Family_Survival_Rate</th>\n",
       "      <th>Family_Survival_Rate_NA</th>\n",
       "      <th>Ticket_Survival_Rate</th>\n",
       "      <th>Ticket_Survival_Rate_NA</th>\n",
       "      <th>Survival_Rate</th>\n",
       "      <th>Survival_Rate_NA</th>\n",
       "    </tr>\n",
       "  </thead>\n",
       "  <tbody>\n",
       "    <tr>\n",
       "      <th>891</th>\n",
       "      <td>6</td>\n",
       "      <td>1</td>\n",
       "      <td>8</td>\n",
       "      <td>Kelly, Mr. James</td>\n",
       "      <td>0</td>\n",
       "      <td>892</td>\n",
       "      <td>3</td>\n",
       "      <td>1</td>\n",
       "      <td>0</td>\n",
       "      <td>NaN</td>\n",
       "      <td>330911</td>\n",
       "      <td>3</td>\n",
       "      <td>1</td>\n",
       "      <td>0</td>\n",
       "      <td>1</td>\n",
       "      <td>3</td>\n",
       "      <td>0</td>\n",
       "      <td>Kelly</td>\n",
       "      <td>0.383838</td>\n",
       "      <td>0</td>\n",
       "      <td>0.383838</td>\n",
       "      <td>0</td>\n",
       "      <td>0.383838</td>\n",
       "      <td>0.0</td>\n",
       "    </tr>\n",
       "    <tr>\n",
       "      <th>892</th>\n",
       "      <td>7</td>\n",
       "      <td>2</td>\n",
       "      <td>12</td>\n",
       "      <td>Wilkes, Mrs. James (Ellen Needs)</td>\n",
       "      <td>0</td>\n",
       "      <td>893</td>\n",
       "      <td>3</td>\n",
       "      <td>0</td>\n",
       "      <td>1</td>\n",
       "      <td>NaN</td>\n",
       "      <td>363272</td>\n",
       "      <td>3</td>\n",
       "      <td>2</td>\n",
       "      <td>3</td>\n",
       "      <td>1</td>\n",
       "      <td>2</td>\n",
       "      <td>1</td>\n",
       "      <td>Wilkes</td>\n",
       "      <td>0.383838</td>\n",
       "      <td>0</td>\n",
       "      <td>0.383838</td>\n",
       "      <td>0</td>\n",
       "      <td>0.383838</td>\n",
       "      <td>0.0</td>\n",
       "    </tr>\n",
       "  </tbody>\n",
       "</table>\n",
       "</div>"
      ],
      "text/plain": [
       "     Age  Embarked  Fare                              Name  Parch  \\\n",
       "891    6         1     8                  Kelly, Mr. James      0   \n",
       "892    7         2    12  Wilkes, Mrs. James (Ellen Needs)      0   \n",
       "\n",
       "     PassengerId  Pclass  Sex  SibSp  Survived  Ticket  Deck  Family_Size  \\\n",
       "891          892       3    1      0       NaN  330911     3            1   \n",
       "892          893       3    0      1       NaN  363272     3            2   \n",
       "\n",
       "     Family_Size_Grouped  Ticket_Frequency  Title  Is_Married  Family  \\\n",
       "891                    0                 1      3           0   Kelly   \n",
       "892                    3                 1      2           1  Wilkes   \n",
       "\n",
       "     Family_Survival_Rate  Family_Survival_Rate_NA  Ticket_Survival_Rate  \\\n",
       "891              0.383838                        0              0.383838   \n",
       "892              0.383838                        0              0.383838   \n",
       "\n",
       "     Ticket_Survival_Rate_NA  Survival_Rate  Survival_Rate_NA  \n",
       "891                        0       0.383838               0.0  \n",
       "892                        0       0.383838               0.0  "
      ]
     },
     "execution_count": 50,
     "metadata": {},
     "output_type": "execute_result"
    }
   ],
   "source": [
    "df_test.head(2)"
   ]
  },
  {
   "cell_type": "code",
   "execution_count": 51,
   "metadata": {
    "collapsed": true
   },
   "outputs": [],
   "source": [
    "### Debug -- 先做个备份\n",
    "df_test_backup  = df_test.copy()\n",
    "df_train_backup = df_train.copy()"
   ]
  },
  {
   "cell_type": "markdown",
   "metadata": {},
   "source": [
    "### 4.2 对类别性特征进行One-hot Encoding 编码"
   ]
  },
  {
   "cell_type": "code",
   "execution_count": 52,
   "metadata": {
    "collapsed": false
   },
   "outputs": [],
   "source": [
    "### 对Pclass,Sex,Deck,Embarked,Title 转成one-hot编码的形式；## 而对Age,Fare不能one-hot编码因为这种是连续的\n",
    "cate_features = ['Pclass','Embarked','Sex','Deck','Title','Family_Size_Grouped']\n",
    "encode_features = []\n",
    "for df in dfs:\n",
    "    for feature in cate_features:\n",
    "        encode_feature = OneHotEncoder().fit_transform(df[feature].values.reshape(-1,1)).toarray()\n",
    "        n = df[feature].nunique() # num of unique()\n",
    "        cols = ['{}_{}'.format(feature,n) for n in range(1,n+1)]\n",
    "        encode_df       = pd.DataFrame(encode_feature,columns = cols)\n",
    "        encode_df.index = df.index\n",
    "        encode_features.append(encode_df)\n",
    "df_train = pd.concat([df_train,*encode_features[:6]],axis=1)\n",
    "df_test  = pd.concat([df_test,*encode_features[6:]],axis=1)"
   ]
  },
  {
   "cell_type": "code",
   "execution_count": 53,
   "metadata": {
    "collapsed": false
   },
   "outputs": [
    {
     "data": {
      "text/html": [
       "<div>\n",
       "<table border=\"1\" class=\"dataframe\">\n",
       "  <thead>\n",
       "    <tr style=\"text-align: right;\">\n",
       "      <th></th>\n",
       "      <th>Age</th>\n",
       "      <th>Embarked</th>\n",
       "      <th>Fare</th>\n",
       "      <th>Name</th>\n",
       "      <th>Parch</th>\n",
       "      <th>PassengerId</th>\n",
       "      <th>Pclass</th>\n",
       "      <th>Sex</th>\n",
       "      <th>SibSp</th>\n",
       "      <th>Survived</th>\n",
       "      <th>Ticket</th>\n",
       "      <th>Deck</th>\n",
       "      <th>Family_Size</th>\n",
       "      <th>Family_Size_Grouped</th>\n",
       "      <th>Ticket_Frequency</th>\n",
       "      <th>Title</th>\n",
       "      <th>Is_Married</th>\n",
       "      <th>Family</th>\n",
       "      <th>Family_Survival_Rate</th>\n",
       "      <th>Family_Survival_Rate_NA</th>\n",
       "      <th>Ticket_Survival_Rate</th>\n",
       "      <th>Ticket_Survival_Rate_NA</th>\n",
       "      <th>Survival_Rate</th>\n",
       "      <th>Survival_Rate_NA</th>\n",
       "      <th>Pclass_1</th>\n",
       "      <th>Pclass_2</th>\n",
       "      <th>Pclass_3</th>\n",
       "      <th>Embarked_1</th>\n",
       "      <th>Embarked_2</th>\n",
       "      <th>Embarked_3</th>\n",
       "      <th>Sex_1</th>\n",
       "      <th>Sex_2</th>\n",
       "      <th>Deck_1</th>\n",
       "      <th>Deck_2</th>\n",
       "      <th>Deck_3</th>\n",
       "      <th>Deck_4</th>\n",
       "      <th>Title_1</th>\n",
       "      <th>Title_2</th>\n",
       "      <th>Title_3</th>\n",
       "      <th>Title_4</th>\n",
       "      <th>Family_Size_Grouped_1</th>\n",
       "      <th>Family_Size_Grouped_2</th>\n",
       "      <th>Family_Size_Grouped_3</th>\n",
       "      <th>Family_Size_Grouped_4</th>\n",
       "    </tr>\n",
       "  </thead>\n",
       "  <tbody>\n",
       "    <tr>\n",
       "      <th>891</th>\n",
       "      <td>6</td>\n",
       "      <td>1</td>\n",
       "      <td>8</td>\n",
       "      <td>Kelly, Mr. James</td>\n",
       "      <td>0</td>\n",
       "      <td>892</td>\n",
       "      <td>3</td>\n",
       "      <td>1</td>\n",
       "      <td>0</td>\n",
       "      <td>NaN</td>\n",
       "      <td>330911</td>\n",
       "      <td>3</td>\n",
       "      <td>1</td>\n",
       "      <td>0</td>\n",
       "      <td>1</td>\n",
       "      <td>3</td>\n",
       "      <td>0</td>\n",
       "      <td>Kelly</td>\n",
       "      <td>0.383838</td>\n",
       "      <td>0</td>\n",
       "      <td>0.383838</td>\n",
       "      <td>0</td>\n",
       "      <td>0.383838</td>\n",
       "      <td>0.0</td>\n",
       "      <td>0.0</td>\n",
       "      <td>0.0</td>\n",
       "      <td>1.0</td>\n",
       "      <td>0.0</td>\n",
       "      <td>1.0</td>\n",
       "      <td>0.0</td>\n",
       "      <td>0.0</td>\n",
       "      <td>1.0</td>\n",
       "      <td>0.0</td>\n",
       "      <td>0.0</td>\n",
       "      <td>0.0</td>\n",
       "      <td>1.0</td>\n",
       "      <td>0.0</td>\n",
       "      <td>0.0</td>\n",
       "      <td>0.0</td>\n",
       "      <td>1.0</td>\n",
       "      <td>1.0</td>\n",
       "      <td>0.0</td>\n",
       "      <td>0.0</td>\n",
       "      <td>0.0</td>\n",
       "    </tr>\n",
       "    <tr>\n",
       "      <th>892</th>\n",
       "      <td>7</td>\n",
       "      <td>2</td>\n",
       "      <td>12</td>\n",
       "      <td>Wilkes, Mrs. James (Ellen Needs)</td>\n",
       "      <td>0</td>\n",
       "      <td>893</td>\n",
       "      <td>3</td>\n",
       "      <td>0</td>\n",
       "      <td>1</td>\n",
       "      <td>NaN</td>\n",
       "      <td>363272</td>\n",
       "      <td>3</td>\n",
       "      <td>2</td>\n",
       "      <td>3</td>\n",
       "      <td>1</td>\n",
       "      <td>2</td>\n",
       "      <td>1</td>\n",
       "      <td>Wilkes</td>\n",
       "      <td>0.383838</td>\n",
       "      <td>0</td>\n",
       "      <td>0.383838</td>\n",
       "      <td>0</td>\n",
       "      <td>0.383838</td>\n",
       "      <td>0.0</td>\n",
       "      <td>0.0</td>\n",
       "      <td>0.0</td>\n",
       "      <td>1.0</td>\n",
       "      <td>0.0</td>\n",
       "      <td>0.0</td>\n",
       "      <td>1.0</td>\n",
       "      <td>1.0</td>\n",
       "      <td>0.0</td>\n",
       "      <td>0.0</td>\n",
       "      <td>0.0</td>\n",
       "      <td>0.0</td>\n",
       "      <td>1.0</td>\n",
       "      <td>0.0</td>\n",
       "      <td>0.0</td>\n",
       "      <td>1.0</td>\n",
       "      <td>0.0</td>\n",
       "      <td>0.0</td>\n",
       "      <td>0.0</td>\n",
       "      <td>0.0</td>\n",
       "      <td>1.0</td>\n",
       "    </tr>\n",
       "  </tbody>\n",
       "</table>\n",
       "</div>"
      ],
      "text/plain": [
       "     Age  Embarked  Fare                              Name  Parch  \\\n",
       "891    6         1     8                  Kelly, Mr. James      0   \n",
       "892    7         2    12  Wilkes, Mrs. James (Ellen Needs)      0   \n",
       "\n",
       "     PassengerId  Pclass  Sex  SibSp  Survived  Ticket  Deck  Family_Size  \\\n",
       "891          892       3    1      0       NaN  330911     3            1   \n",
       "892          893       3    0      1       NaN  363272     3            2   \n",
       "\n",
       "     Family_Size_Grouped  Ticket_Frequency  Title  Is_Married  Family  \\\n",
       "891                    0                 1      3           0   Kelly   \n",
       "892                    3                 1      2           1  Wilkes   \n",
       "\n",
       "     Family_Survival_Rate  Family_Survival_Rate_NA  Ticket_Survival_Rate  \\\n",
       "891              0.383838                        0              0.383838   \n",
       "892              0.383838                        0              0.383838   \n",
       "\n",
       "     Ticket_Survival_Rate_NA  Survival_Rate  Survival_Rate_NA  Pclass_1  \\\n",
       "891                        0       0.383838               0.0       0.0   \n",
       "892                        0       0.383838               0.0       0.0   \n",
       "\n",
       "     Pclass_2  Pclass_3  Embarked_1  Embarked_2  Embarked_3  Sex_1  Sex_2  \\\n",
       "891       0.0       1.0         0.0         1.0         0.0    0.0    1.0   \n",
       "892       0.0       1.0         0.0         0.0         1.0    1.0    0.0   \n",
       "\n",
       "     Deck_1  Deck_2  Deck_3  Deck_4  Title_1  Title_2  Title_3  Title_4  \\\n",
       "891     0.0     0.0     0.0     1.0      0.0      0.0      0.0      1.0   \n",
       "892     0.0     0.0     0.0     1.0      0.0      0.0      1.0      0.0   \n",
       "\n",
       "     Family_Size_Grouped_1  Family_Size_Grouped_2  Family_Size_Grouped_3  \\\n",
       "891                    1.0                    0.0                    0.0   \n",
       "892                    0.0                    0.0                    0.0   \n",
       "\n",
       "     Family_Size_Grouped_4  \n",
       "891                    0.0  \n",
       "892                    1.0  "
      ]
     },
     "execution_count": 53,
     "metadata": {},
     "output_type": "execute_result"
    }
   ],
   "source": [
    "df_test.head(2)"
   ]
  },
  {
   "cell_type": "code",
   "execution_count": 54,
   "metadata": {
    "collapsed": false
   },
   "outputs": [
    {
     "data": {
      "text/html": [
       "<div>\n",
       "<table border=\"1\" class=\"dataframe\">\n",
       "  <thead>\n",
       "    <tr style=\"text-align: right;\">\n",
       "      <th></th>\n",
       "      <th>Age</th>\n",
       "      <th>Embarked</th>\n",
       "      <th>Fare</th>\n",
       "      <th>Name</th>\n",
       "      <th>Parch</th>\n",
       "      <th>PassengerId</th>\n",
       "      <th>Pclass</th>\n",
       "      <th>Sex</th>\n",
       "      <th>SibSp</th>\n",
       "      <th>Survived</th>\n",
       "      <th>Ticket</th>\n",
       "      <th>Deck</th>\n",
       "      <th>Family_Size</th>\n",
       "      <th>Family_Size_Grouped</th>\n",
       "      <th>Ticket_Frequency</th>\n",
       "      <th>Title</th>\n",
       "      <th>Is_Married</th>\n",
       "      <th>Family</th>\n",
       "      <th>Family_Survival_Rate</th>\n",
       "      <th>Family_Survival_Rate_NA</th>\n",
       "      <th>Ticket_Survival_Rate</th>\n",
       "      <th>Ticket_Survival_Rate_NA</th>\n",
       "      <th>Survival_Rate</th>\n",
       "      <th>Survival_Rate_NA</th>\n",
       "      <th>Pclass_1</th>\n",
       "      <th>Pclass_2</th>\n",
       "      <th>Pclass_3</th>\n",
       "      <th>Embarked_1</th>\n",
       "      <th>Embarked_2</th>\n",
       "      <th>Embarked_3</th>\n",
       "      <th>Sex_1</th>\n",
       "      <th>Sex_2</th>\n",
       "      <th>Deck_1</th>\n",
       "      <th>Deck_2</th>\n",
       "      <th>Deck_3</th>\n",
       "      <th>Deck_4</th>\n",
       "      <th>Title_1</th>\n",
       "      <th>Title_2</th>\n",
       "      <th>Title_3</th>\n",
       "      <th>Title_4</th>\n",
       "      <th>Family_Size_Grouped_1</th>\n",
       "      <th>Family_Size_Grouped_2</th>\n",
       "      <th>Family_Size_Grouped_3</th>\n",
       "      <th>Family_Size_Grouped_4</th>\n",
       "    </tr>\n",
       "  </thead>\n",
       "  <tbody>\n",
       "    <tr>\n",
       "      <th>0</th>\n",
       "      <td>1</td>\n",
       "      <td>2</td>\n",
       "      <td>12</td>\n",
       "      <td>Braund, Mr. Owen Harris</td>\n",
       "      <td>0</td>\n",
       "      <td>1</td>\n",
       "      <td>3</td>\n",
       "      <td>1</td>\n",
       "      <td>1</td>\n",
       "      <td>0.0</td>\n",
       "      <td>A/5 21171</td>\n",
       "      <td>3</td>\n",
       "      <td>2</td>\n",
       "      <td>3</td>\n",
       "      <td>1</td>\n",
       "      <td>3</td>\n",
       "      <td>0</td>\n",
       "      <td>Braund</td>\n",
       "      <td>0.383838</td>\n",
       "      <td>0</td>\n",
       "      <td>0.383838</td>\n",
       "      <td>0</td>\n",
       "      <td>0.383838</td>\n",
       "      <td>0.0</td>\n",
       "      <td>0.0</td>\n",
       "      <td>0.0</td>\n",
       "      <td>1.0</td>\n",
       "      <td>0.0</td>\n",
       "      <td>0.0</td>\n",
       "      <td>1.0</td>\n",
       "      <td>0.0</td>\n",
       "      <td>1.0</td>\n",
       "      <td>0.0</td>\n",
       "      <td>0.0</td>\n",
       "      <td>0.0</td>\n",
       "      <td>1.0</td>\n",
       "      <td>0.0</td>\n",
       "      <td>0.0</td>\n",
       "      <td>0.0</td>\n",
       "      <td>1.0</td>\n",
       "      <td>0.0</td>\n",
       "      <td>0.0</td>\n",
       "      <td>0.0</td>\n",
       "      <td>1.0</td>\n",
       "    </tr>\n",
       "    <tr>\n",
       "      <th>1</th>\n",
       "      <td>6</td>\n",
       "      <td>0</td>\n",
       "      <td>6</td>\n",
       "      <td>Cumings, Mrs. John Bradley (Florence Briggs Th...</td>\n",
       "      <td>0</td>\n",
       "      <td>2</td>\n",
       "      <td>1</td>\n",
       "      <td>0</td>\n",
       "      <td>1</td>\n",
       "      <td>1.0</td>\n",
       "      <td>PC 17599</td>\n",
       "      <td>0</td>\n",
       "      <td>2</td>\n",
       "      <td>3</td>\n",
       "      <td>2</td>\n",
       "      <td>2</td>\n",
       "      <td>1</td>\n",
       "      <td>Cumings</td>\n",
       "      <td>1.000000</td>\n",
       "      <td>1</td>\n",
       "      <td>1.000000</td>\n",
       "      <td>1</td>\n",
       "      <td>1.000000</td>\n",
       "      <td>1.0</td>\n",
       "      <td>1.0</td>\n",
       "      <td>0.0</td>\n",
       "      <td>0.0</td>\n",
       "      <td>1.0</td>\n",
       "      <td>0.0</td>\n",
       "      <td>0.0</td>\n",
       "      <td>1.0</td>\n",
       "      <td>0.0</td>\n",
       "      <td>1.0</td>\n",
       "      <td>0.0</td>\n",
       "      <td>0.0</td>\n",
       "      <td>0.0</td>\n",
       "      <td>0.0</td>\n",
       "      <td>0.0</td>\n",
       "      <td>1.0</td>\n",
       "      <td>0.0</td>\n",
       "      <td>0.0</td>\n",
       "      <td>0.0</td>\n",
       "      <td>0.0</td>\n",
       "      <td>1.0</td>\n",
       "    </tr>\n",
       "  </tbody>\n",
       "</table>\n",
       "</div>"
      ],
      "text/plain": [
       "   Age  Embarked  Fare                                               Name  \\\n",
       "0    1         2    12                            Braund, Mr. Owen Harris   \n",
       "1    6         0     6  Cumings, Mrs. John Bradley (Florence Briggs Th...   \n",
       "\n",
       "   Parch  PassengerId  Pclass  Sex  SibSp  Survived     Ticket  Deck  \\\n",
       "0      0            1       3    1      1       0.0  A/5 21171     3   \n",
       "1      0            2       1    0      1       1.0   PC 17599     0   \n",
       "\n",
       "   Family_Size  Family_Size_Grouped  Ticket_Frequency  Title  Is_Married  \\\n",
       "0            2                    3                 1      3           0   \n",
       "1            2                    3                 2      2           1   \n",
       "\n",
       "    Family  Family_Survival_Rate  Family_Survival_Rate_NA  \\\n",
       "0   Braund              0.383838                        0   \n",
       "1  Cumings              1.000000                        1   \n",
       "\n",
       "   Ticket_Survival_Rate  Ticket_Survival_Rate_NA  Survival_Rate  \\\n",
       "0              0.383838                        0       0.383838   \n",
       "1              1.000000                        1       1.000000   \n",
       "\n",
       "   Survival_Rate_NA  Pclass_1  Pclass_2  Pclass_3  Embarked_1  Embarked_2  \\\n",
       "0               0.0       0.0       0.0       1.0         0.0         0.0   \n",
       "1               1.0       1.0       0.0       0.0         1.0         0.0   \n",
       "\n",
       "   Embarked_3  Sex_1  Sex_2  Deck_1  Deck_2  Deck_3  Deck_4  Title_1  Title_2  \\\n",
       "0         1.0    0.0    1.0     0.0     0.0     0.0     1.0      0.0      0.0   \n",
       "1         0.0    1.0    0.0     1.0     0.0     0.0     0.0      0.0      0.0   \n",
       "\n",
       "   Title_3  Title_4  Family_Size_Grouped_1  Family_Size_Grouped_2  \\\n",
       "0      0.0      1.0                    0.0                    0.0   \n",
       "1      1.0      0.0                    0.0                    0.0   \n",
       "\n",
       "   Family_Size_Grouped_3  Family_Size_Grouped_4  \n",
       "0                    0.0                    1.0  \n",
       "1                    0.0                    1.0  "
      ]
     },
     "execution_count": 54,
     "metadata": {},
     "output_type": "execute_result"
    }
   ],
   "source": [
    "df_train.head(2)"
   ]
  },
  {
   "cell_type": "markdown",
   "metadata": {},
   "source": [
    "## 5 最终的特征总结"
   ]
  },
  {
   "cell_type": "code",
   "execution_count": 55,
   "metadata": {
    "collapsed": false
   },
   "outputs": [
    {
     "data": {
      "text/plain": [
       "((891, 44), (418, 44))"
      ]
     },
     "execution_count": 55,
     "metadata": {},
     "output_type": "execute_result"
    }
   ],
   "source": [
    "df_train.shape,df_test.shape"
   ]
  },
  {
   "cell_type": "code",
   "execution_count": 56,
   "metadata": {
    "collapsed": false
   },
   "outputs": [
    {
     "data": {
      "text/html": [
       "<div>\n",
       "<table border=\"1\" class=\"dataframe\">\n",
       "  <thead>\n",
       "    <tr style=\"text-align: right;\">\n",
       "      <th></th>\n",
       "      <th>Age</th>\n",
       "      <th>Fare</th>\n",
       "      <th>Ticket_Frequency</th>\n",
       "      <th>Is_Married</th>\n",
       "      <th>Survival_Rate</th>\n",
       "      <th>Survival_Rate_NA</th>\n",
       "      <th>Pclass_1</th>\n",
       "      <th>Pclass_2</th>\n",
       "      <th>Pclass_3</th>\n",
       "      <th>Embarked_1</th>\n",
       "      <th>Embarked_2</th>\n",
       "      <th>Embarked_3</th>\n",
       "      <th>Sex_1</th>\n",
       "      <th>Sex_2</th>\n",
       "      <th>Deck_1</th>\n",
       "      <th>Deck_2</th>\n",
       "      <th>Deck_3</th>\n",
       "      <th>Deck_4</th>\n",
       "      <th>Title_1</th>\n",
       "      <th>Title_2</th>\n",
       "      <th>Title_3</th>\n",
       "      <th>Title_4</th>\n",
       "      <th>Family_Size_Grouped_1</th>\n",
       "      <th>Family_Size_Grouped_2</th>\n",
       "      <th>Family_Size_Grouped_3</th>\n",
       "      <th>Family_Size_Grouped_4</th>\n",
       "    </tr>\n",
       "  </thead>\n",
       "  <tbody>\n",
       "    <tr>\n",
       "      <th>0</th>\n",
       "      <td>1</td>\n",
       "      <td>12</td>\n",
       "      <td>1</td>\n",
       "      <td>0</td>\n",
       "      <td>0.383838</td>\n",
       "      <td>0.0</td>\n",
       "      <td>0.0</td>\n",
       "      <td>0.0</td>\n",
       "      <td>1.0</td>\n",
       "      <td>0.0</td>\n",
       "      <td>0.0</td>\n",
       "      <td>1.0</td>\n",
       "      <td>0.0</td>\n",
       "      <td>1.0</td>\n",
       "      <td>0.0</td>\n",
       "      <td>0.0</td>\n",
       "      <td>0.0</td>\n",
       "      <td>1.0</td>\n",
       "      <td>0.0</td>\n",
       "      <td>0.0</td>\n",
       "      <td>0.0</td>\n",
       "      <td>1.0</td>\n",
       "      <td>0.0</td>\n",
       "      <td>0.0</td>\n",
       "      <td>0.0</td>\n",
       "      <td>1.0</td>\n",
       "    </tr>\n",
       "    <tr>\n",
       "      <th>1</th>\n",
       "      <td>6</td>\n",
       "      <td>6</td>\n",
       "      <td>2</td>\n",
       "      <td>1</td>\n",
       "      <td>1.000000</td>\n",
       "      <td>1.0</td>\n",
       "      <td>1.0</td>\n",
       "      <td>0.0</td>\n",
       "      <td>0.0</td>\n",
       "      <td>1.0</td>\n",
       "      <td>0.0</td>\n",
       "      <td>0.0</td>\n",
       "      <td>1.0</td>\n",
       "      <td>0.0</td>\n",
       "      <td>1.0</td>\n",
       "      <td>0.0</td>\n",
       "      <td>0.0</td>\n",
       "      <td>0.0</td>\n",
       "      <td>0.0</td>\n",
       "      <td>0.0</td>\n",
       "      <td>1.0</td>\n",
       "      <td>0.0</td>\n",
       "      <td>0.0</td>\n",
       "      <td>0.0</td>\n",
       "      <td>0.0</td>\n",
       "      <td>1.0</td>\n",
       "    </tr>\n",
       "    <tr>\n",
       "      <th>2</th>\n",
       "      <td>3</td>\n",
       "      <td>9</td>\n",
       "      <td>1</td>\n",
       "      <td>0</td>\n",
       "      <td>0.383838</td>\n",
       "      <td>0.0</td>\n",
       "      <td>0.0</td>\n",
       "      <td>0.0</td>\n",
       "      <td>1.0</td>\n",
       "      <td>0.0</td>\n",
       "      <td>0.0</td>\n",
       "      <td>1.0</td>\n",
       "      <td>1.0</td>\n",
       "      <td>0.0</td>\n",
       "      <td>0.0</td>\n",
       "      <td>0.0</td>\n",
       "      <td>0.0</td>\n",
       "      <td>1.0</td>\n",
       "      <td>0.0</td>\n",
       "      <td>0.0</td>\n",
       "      <td>1.0</td>\n",
       "      <td>0.0</td>\n",
       "      <td>1.0</td>\n",
       "      <td>0.0</td>\n",
       "      <td>0.0</td>\n",
       "      <td>0.0</td>\n",
       "    </tr>\n",
       "    <tr>\n",
       "      <th>3</th>\n",
       "      <td>6</td>\n",
       "      <td>5</td>\n",
       "      <td>2</td>\n",
       "      <td>1</td>\n",
       "      <td>0.383838</td>\n",
       "      <td>0.0</td>\n",
       "      <td>1.0</td>\n",
       "      <td>0.0</td>\n",
       "      <td>0.0</td>\n",
       "      <td>0.0</td>\n",
       "      <td>0.0</td>\n",
       "      <td>1.0</td>\n",
       "      <td>1.0</td>\n",
       "      <td>0.0</td>\n",
       "      <td>1.0</td>\n",
       "      <td>0.0</td>\n",
       "      <td>0.0</td>\n",
       "      <td>0.0</td>\n",
       "      <td>0.0</td>\n",
       "      <td>0.0</td>\n",
       "      <td>1.0</td>\n",
       "      <td>0.0</td>\n",
       "      <td>0.0</td>\n",
       "      <td>0.0</td>\n",
       "      <td>0.0</td>\n",
       "      <td>1.0</td>\n",
       "    </tr>\n",
       "    <tr>\n",
       "      <th>4</th>\n",
       "      <td>6</td>\n",
       "      <td>9</td>\n",
       "      <td>1</td>\n",
       "      <td>0</td>\n",
       "      <td>0.383838</td>\n",
       "      <td>0.0</td>\n",
       "      <td>0.0</td>\n",
       "      <td>0.0</td>\n",
       "      <td>1.0</td>\n",
       "      <td>0.0</td>\n",
       "      <td>0.0</td>\n",
       "      <td>1.0</td>\n",
       "      <td>0.0</td>\n",
       "      <td>1.0</td>\n",
       "      <td>0.0</td>\n",
       "      <td>0.0</td>\n",
       "      <td>0.0</td>\n",
       "      <td>1.0</td>\n",
       "      <td>0.0</td>\n",
       "      <td>0.0</td>\n",
       "      <td>0.0</td>\n",
       "      <td>1.0</td>\n",
       "      <td>1.0</td>\n",
       "      <td>0.0</td>\n",
       "      <td>0.0</td>\n",
       "      <td>0.0</td>\n",
       "    </tr>\n",
       "  </tbody>\n",
       "</table>\n",
       "</div>"
      ],
      "text/plain": [
       "   Age  Fare  Ticket_Frequency  Is_Married  Survival_Rate  Survival_Rate_NA  \\\n",
       "0    1    12                 1           0       0.383838               0.0   \n",
       "1    6     6                 2           1       1.000000               1.0   \n",
       "2    3     9                 1           0       0.383838               0.0   \n",
       "3    6     5                 2           1       0.383838               0.0   \n",
       "4    6     9                 1           0       0.383838               0.0   \n",
       "\n",
       "   Pclass_1  Pclass_2  Pclass_3  Embarked_1  Embarked_2  Embarked_3  Sex_1  \\\n",
       "0       0.0       0.0       1.0         0.0         0.0         1.0    0.0   \n",
       "1       1.0       0.0       0.0         1.0         0.0         0.0    1.0   \n",
       "2       0.0       0.0       1.0         0.0         0.0         1.0    1.0   \n",
       "3       1.0       0.0       0.0         0.0         0.0         1.0    1.0   \n",
       "4       0.0       0.0       1.0         0.0         0.0         1.0    0.0   \n",
       "\n",
       "   Sex_2  Deck_1  Deck_2  Deck_3  Deck_4  Title_1  Title_2  Title_3  Title_4  \\\n",
       "0    1.0     0.0     0.0     0.0     1.0      0.0      0.0      0.0      1.0   \n",
       "1    0.0     1.0     0.0     0.0     0.0      0.0      0.0      1.0      0.0   \n",
       "2    0.0     0.0     0.0     0.0     1.0      0.0      0.0      1.0      0.0   \n",
       "3    0.0     1.0     0.0     0.0     0.0      0.0      0.0      1.0      0.0   \n",
       "4    1.0     0.0     0.0     0.0     1.0      0.0      0.0      0.0      1.0   \n",
       "\n",
       "   Family_Size_Grouped_1  Family_Size_Grouped_2  Family_Size_Grouped_3  \\\n",
       "0                    0.0                    0.0                    0.0   \n",
       "1                    0.0                    0.0                    0.0   \n",
       "2                    1.0                    0.0                    0.0   \n",
       "3                    0.0                    0.0                    0.0   \n",
       "4                    1.0                    0.0                    0.0   \n",
       "\n",
       "   Family_Size_Grouped_4  \n",
       "0                    1.0  \n",
       "1                    1.0  \n",
       "2                    0.0  \n",
       "3                    1.0  \n",
       "4                    0.0  "
      ]
     },
     "execution_count": 56,
     "metadata": {},
     "output_type": "execute_result"
    }
   ],
   "source": [
    "df_all = concat_df(df_train,df_test)\n",
    "drop_cols = ['Deck', 'Embarked', 'Family', 'Family_Size', 'Family_Size_Grouped', 'Survived',\n",
    "             'Name', 'Parch', 'PassengerId', 'Pclass', 'Sex', 'SibSp', 'Ticket', 'Title',\n",
    "            'Ticket_Survival_Rate', 'Family_Survival_Rate', 'Ticket_Survival_Rate_NA', 'Family_Survival_Rate_NA']\n",
    "df_all = df_all.drop(drop_cols,axis=1)\n",
    "df_all.head() # 26个特征"
   ]
  },
  {
   "cell_type": "markdown",
   "metadata": {},
   "source": [
    "# 6 机器学习模型"
   ]
  },
  {
   "cell_type": "code",
   "execution_count": 57,
   "metadata": {
    "collapsed": false
   },
   "outputs": [
    {
     "data": {
      "text/plain": [
       "((891, 26), (891,), (418, 26))"
      ]
     },
     "execution_count": 57,
     "metadata": {},
     "output_type": "execute_result"
    }
   ],
   "source": [
    "X_train = StandardScaler().fit_transform(df_train.drop(drop_cols,axis= 1))\n",
    "y_train = df_train['Survived'].values\n",
    "X_test  = StandardScaler().fit_transform(df_test.drop(drop_cols,axis = 1))\n",
    "X_train.shape,y_train.shape,X_test.shape"
   ]
  },
  {
   "cell_type": "markdown",
   "metadata": {},
   "source": [
    "## 6.1 随机森林的模型"
   ]
  },
  {
   "cell_type": "code",
   "execution_count": 58,
   "metadata": {
    "collapsed": true
   },
   "outputs": [],
   "source": [
    "### 创建了两个模型，一个模型是singlemodel这个模型，这个模型的最佳效果是0.82但是在 k fold的交叉验证上效果不好；\n",
    "# 另一个是leaderboard model，这个模型在测试集合上出现过拟合，因此不适合在实际生产项目做使用；但是可以在现在的数据集合上使用"
   ]
  },
  {
   "cell_type": "code",
   "execution_count": 59,
   "metadata": {
    "collapsed": true
   },
   "outputs": [],
   "source": [
    "single_best_model = RandomForestClassifier(\n",
    "    n_estimators= 1100,\n",
    "    criterion = 'gini',max_features ='auto',max_depth = 5,\n",
    "    min_samples_split = 4,min_samples_leaf = 5,oob_score = True,random_state = 2020,\n",
    "    n_jobs = -1,verbose=0\n",
    ")\n",
    "leader_best_model = RandomForestClassifier(\n",
    "    n_estimators= 1750,\n",
    "    criterion = 'gini',max_features ='auto',max_depth = 7,\n",
    "    min_samples_split = 6,min_samples_leaf = 6,oob_score = True,random_state = 2020,\n",
    "    n_jobs = -1,verbose=0\n",
    ")"
   ]
  },
  {
   "cell_type": "code",
   "execution_count": 60,
   "metadata": {
    "collapsed": false
   },
   "outputs": [
    {
     "name": "stdout",
     "output_type": "stream",
     "text": [
      "Fold 1\n",
      "\n",
      "Fold_1_OOB_socre:0.8581460674157303\n",
      "\n",
      "Fold 2\n",
      "\n",
      "Fold_2_OOB_socre:0.8525280898876404\n",
      "\n",
      "Fold 3\n",
      "\n",
      "Fold_3_OOB_socre:0.8288920056100981\n",
      "\n",
      "Fold 4\n",
      "\n",
      "Fold_4_OOB_socre:0.8302945301542777\n",
      "\n",
      "Fold 5\n",
      "\n",
      "Fold_5_OOB_socre:0.8361344537815126\n",
      "\n",
      "Average OOB Socre:0.8411990293698519\n"
     ]
    }
   ],
   "source": [
    "## K Fold的交叉验证\n",
    "# 声明一些变量\n",
    "N,oob = 5,0\n",
    "probs = pd.DataFrame(np.zeros((len(X_test),N*2)),\n",
    "                    columns = ['Fold_{}_Prob_{}'.format(i,j) for i in\n",
    "                              range(1,N+1) for j in range(2)]) # 418×10 ; columns = 10列\n",
    "importances = pd.DataFrame(np.zeros((X_train.shape[1],N)),\n",
    "                          columns = ['Fold_{}'.format(i) for i in range(1,N+1)],\n",
    "                          index = df_all.columns) # 26*N === 26个特征× 5折\n",
    "# df_all.columns = Index(['Age', 'Fare', 'Ticket_Frequency', 'Is_Married', 'Survival_Rate',\n",
    "#       'Survival_Rate_NA', 'Pclass_1', 'Pclass_2', 'Pclass_3', 'Embarked_1',\n",
    "#       'Embarked_2', 'Embarked_3', 'Sex_1', 'Sex_2', 'Deck_1', 'Deck_2',\n",
    "#       'Deck_3', 'Deck_4', 'Title_1', 'Title_2', 'Title_3', 'Title_4',\n",
    "#       'Family_Size_Grouped_1', 'Family_Size_Grouped_2',\n",
    "#       'Family_Size_Grouped_3', 'Family_Size_Grouped_4'],\n",
    "#      dtype='object')\n",
    "fprs,tprs,scores = [],[],[]\n",
    "\n",
    "\n",
    "skf = StratifiedKFold(n_splits = N,random_state=N,shuffle = True)\n",
    "for fold,(trn_idx,val_idx) in enumerate(skf.split(X_train,y_train),1):\n",
    "    print(\"Fold {}\\n\".format(fold))\n",
    "    # Fitting model\n",
    "    leader_best_model.fit(X_train[trn_idx],y_train[trn_idx])\n",
    "    \n",
    "    # Train AUC score\n",
    "    trn_fpr,trn_tpr,trn_thresholds = roc_curve(y_train[trn_idx],\n",
    "              leader_best_model.predict_proba(X_train[trn_idx])[:,1])\n",
    "    trn_auc_scores = auc(trn_fpr,trn_tpr)\n",
    "    \n",
    "    # Validation AUC score \n",
    "    val_fpr,val_tpr,val_thresholds = roc_curve(y_train[val_idx],\n",
    "              leader_best_model.predict_proba(X_train[val_idx])[:,1])\n",
    "    val_auc_scores = auc(val_fpr,val_tpr)\n",
    "    \n",
    "    scores.append((trn_auc_scores,val_auc_scores))\n",
    "    fprs.append(val_fpr)\n",
    "    tprs.append(val_tpr)\n",
    "    \n",
    "    # X test probabilities \n",
    "    probs.loc[:,'Fold_{}_Prob_0'.format(fold)] = leader_best_model.predict_proba(X_test)[:,0]\n",
    "    probs.loc[:,'Fold_{}_Prob_1'.format(fold)] = leader_best_model.predict_proba(X_test)[:,1]\n",
    "    importances.iloc[:,fold-1] = leader_best_model.feature_importances_\n",
    "    oob+= leader_best_model.oob_score_/N\n",
    "    print(\"Fold_{}_OOB_socre:{}\\n\".format(fold,leader_best_model.oob_score_))\n",
    "print(\"Average OOB Socre:{}\".format(oob))"
   ]
  },
  {
   "cell_type": "code",
   "execution_count": 63,
   "metadata": {
    "collapsed": false
   },
   "outputs": [
    {
     "data": {
      "image/png": "[encoded data removed]",
      "text/plain": [
       "<matplotlib.figure.Figure at 0x1ae65e48>"
      ]
     },
     "metadata": {},
     "output_type": "display_data"
    },
    {
     "data": {
      "image/png": "[encoded data removed]",
      "text/plain": [
       "<matplotlib.figure.Figure at 0x1c1bcbe0>"
      ]
     },
     "metadata": {},
     "output_type": "display_data"
    }
   ],
   "source": [
    "importances['Mean_Importance'] = importances.mean(axis=1)\n",
    "importances.sort_values(by= 'Mean_Importance',ascending = False,inplace=True)\n",
    "plt.figure(figsize = (3,6))\n",
    "sns.barplot(x = 'Mean_Importance',y = importances.index,data = importances)\n",
    "plt.xlabel('')\n",
    "plt.tick_params(axis = 'x',size =2)\n",
    "plt.tick_params(axis = 'y',size =2)\n",
    "plt.title(\"RF Model Mean_Importance Show\",size=8)\n",
    "\n",
    "\n",
    "\n",
    "sns.swarmplot(x = 'Mean_Importance',y = importances.index,data = importances)\n",
    "plt.show()"
   ]
  },
  {
   "cell_type": "markdown",
   "metadata": {},
   "source": [
    "## 6.2 参看重要的特征"
   ]
  },
  {
   "cell_type": "code",
   "execution_count": 104,
   "metadata": {
    "collapsed": false
   },
   "outputs": [
    {
     "data": {
      "image/png": "[encoded data removed]",
      "text/plain": [
       "<matplotlib.figure.Figure at 0x22b6d889908>"
      ]
     },
     "metadata": {},
     "output_type": "display_data"
    }
   ],
   "source": [
    "importances['Mean_Importance'] = importances.mean(axis=1)\n",
    "importances.sort_values(by= 'Mean_Importance',ascending = False,inplace=True)\n",
    "plt.figure(figsize = (3,6))\n",
    "sns.barplot(x = 'Mean_Importance',y = importances.index,data = importances)\n",
    "plt.xlabel('')\n",
    "plt.tick_params(axis = 'x',size =2)\n",
    "plt.tick_params(axis = 'y',size =2)\n",
    "plt.title(\"RF Model Mean_Importance Show\",size=8)\n",
    "plt.show()"
   ]
  },
  {
   "cell_type": "markdown",
   "metadata": {},
   "source": [
    "## 6.3 ROC Curve"
   ]
  },
  {
   "cell_type": "code",
   "execution_count": 117,
   "metadata": {
    "collapsed": false
   },
   "outputs": [
    {
     "data": {
      "image/png": "[encoded data removed]",
      "text/plain": [
       "<matplotlib.figure.Figure at 0x22b6d9b7278>"
      ]
     },
     "metadata": {},
     "output_type": "display_data"
    }
   ],
   "source": [
    "def plot_roc_curve(fprs,tprs):\n",
    "    tprs_interp,aucs=[],[]\n",
    "    mean_fpr = np.linspace(0,1,100)\n",
    "    f,ax     = plt.subplots(figsize=(6,6))\n",
    "    # plotting \n",
    "    for i,(fpr,tpr) in enumerate(zip(fprs,tprs),1):\n",
    "        tprs_interp.append(np.interp(mean_fpr,fpr,tpr))\n",
    "        tprs_interp[-1][0] = 0\n",
    "        roc_auc = auc(fpr,tpr)\n",
    "        aucs.append(roc_auc)\n",
    "        ax.plot(fpr,tpr,lw=1.5,alpha=0.3,label= 'ROC Fold{}(AUC={:.3f})'.format(i,roc_auc))\n",
    "        \n",
    "    #ploting roc for random guessing \n",
    "    plt.plot([0,1],[0,1],linestyle='--',lw=2,color='r',alpha=0.8,label='RandomGuessing')\n",
    "    \n",
    "    mean_tpr     = np.mean(tprs_interp,axis= 0)\n",
    "    mean_tpr[-1] = 1.0\n",
    "    mean_auc     = auc(mean_fpr,mean_tpr)\n",
    "    std_auc      = np.std(mean_auc) \n",
    "    ax.plot(mean_fpr, mean_tpr, color='b',\n",
    "            label='Mean ROC (AUC = {:.3f} $\\pm$ {:.3f})'.format(mean_auc, std_auc), lw=1.4, alpha=0.3)\n",
    "    # Plotting the standard deviation around the mean ROC Curve\n",
    "    std_tpr = np.std(tprs_interp, axis=0)\n",
    "    tprs_upper = np.minimum(mean_tpr + std_tpr, 1)\n",
    "    tprs_lower = np.maximum(mean_tpr - std_tpr, 0)\n",
    "    ax.fill_between(mean_fpr, tprs_lower, tprs_upper, color='green', alpha=.2, label='$\\pm$ 1 std. dev.')\n",
    "    \n",
    "    ax.set_xlabel('False Positive Rate', size=12, labelpad=20)\n",
    "    ax.set_ylabel('True Positive Rate', size=12, labelpad=20)\n",
    "    ax.tick_params(axis='x', labelsize=12)\n",
    "    ax.tick_params(axis='y', labelsize=12)\n",
    "    ax.set_xlim([-0.05, 1.05])\n",
    "    ax.set_ylim([-0.05, 1.05])\n",
    "\n",
    "    ax.set_title('ROC Curves of Folds', size=12, y=1.02)\n",
    "    ax.legend(loc='lower right', prop={'size': 9})\n",
    "    \n",
    "    plt.show()\n",
    "\n",
    "plot_roc_curve(fprs, tprs)"
   ]
  },
  {
   "cell_type": "code",
   "execution_count": 142,
   "metadata": {
    "collapsed": false
   },
   "outputs": [],
   "source": [
    "### Submission\n",
    "class_survived_1      = [col for col in probs.columns if col.endswith('Prob_1')]\n",
    "probs['1']            = probs[class_survived_1].sum(axis=1)/N# N 列合并成一列并平均 \n",
    "probs['0']            = probs.drop(class_survived_1,axis=1).sum(axis=1)/N# N 列合并成一列并平均 \n",
    "probs['pred']         = 0\n",
    "pos                   = probs[probs['1']>0.5].index \n",
    "probs.loc[pos,'pred'] = 1\n",
    "y_pred = probs['pred'].astype(int)"
   ]
  },
  {
   "cell_type": "code",
   "execution_count": 163,
   "metadata": {
    "collapsed": false
   },
   "outputs": [],
   "source": [
    "submiss_df = pd.DataFrame(columns=['PassengerId','Survived']) # NUll dataframe \n",
    "submiss_df['PassengerId'] = df_test['PassengerId']\n",
    "submiss_df['Survived']    = y_pred.values\n",
    "submiss_df.to_csv('./input/submiss_rerun_0.83.csv',index=False)"
   ]
  },
  {
   "cell_type": "code",
   "execution_count": 164,
   "metadata": {
    "collapsed": false
   },
   "outputs": [
    {
     "name": "stdout",
     "output_type": "stream",
     "text": [
      "准确率是:81.10%\n"
     ]
    }
   ],
   "source": [
    "submission_cheating = pd.read_csv('submission_cheating.csv')\n",
    "print(\"准确率是:{:0.2f}%\".format(\n",
    "        np.sum(submiss_df['Survived'] == submission_cheating['Survived'])/len(submission_cheating['Survived'])*100))"
   ]
  }
 ],
 "metadata": {
  "anaconda-cloud": {},
  "kernelspec": {
   "display_name": "Python [conda env:Anaconda3]",
   "language": "python",
   "name": "conda-env-Anaconda3-py"
  },
  "language_info": {
   "codemirror_mode": {
    "name": "ipython",
    "version": 3
   },
   "file_extension": ".py",
   "mimetype": "text/x-python",
   "name": "python",
   "nbconvert_exporter": "python",
   "pygments_lexer": "ipython3",
   "version": "3.5.2"
  }
 },
 "nbformat": 4,
 "nbformat_minor": 1
}
